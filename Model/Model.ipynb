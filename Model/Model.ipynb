{
 "cells": [
  {
   "cell_type": "code",
   "execution_count": 150,
   "id": "f99f3a01",
   "metadata": {},
   "outputs": [],
   "source": [
    "import pandas as pd\n",
    "import numpy as np\n",
    "import seaborn as sns\n",
    "import matplotlib.pyplot as plt\n",
    "from sklearn.preprocessing import LabelEncoder, OneHotEncoder\n",
    "from sklearn.model_selection import train_test_split"
   ]
  },
  {
   "cell_type": "code",
   "execution_count": 123,
   "id": "1358f020",
   "metadata": {},
   "outputs": [],
   "source": [
    "df = pd.read_csv(\"world_cup_score.csv\")"
   ]
  },
  {
   "cell_type": "markdown",
   "id": "a146ccae",
   "metadata": {},
   "source": [
    "### Information about Dataset"
   ]
  },
  {
   "cell_type": "code",
   "execution_count": 124,
   "id": "91bb9f3a",
   "metadata": {},
   "outputs": [
    {
     "data": {
      "text/html": [
       "<div>\n",
       "<style scoped>\n",
       "    .dataframe tbody tr th:only-of-type {\n",
       "        vertical-align: middle;\n",
       "    }\n",
       "\n",
       "    .dataframe tbody tr th {\n",
       "        vertical-align: top;\n",
       "    }\n",
       "\n",
       "    .dataframe thead th {\n",
       "        text-align: right;\n",
       "    }\n",
       "</style>\n",
       "<table border=\"1\" class=\"dataframe\">\n",
       "  <thead>\n",
       "    <tr style=\"text-align: right;\">\n",
       "      <th></th>\n",
       "      <th>Year</th>\n",
       "      <th>Match Number</th>\n",
       "      <th>City</th>\n",
       "      <th>Date</th>\n",
       "      <th>Winner</th>\n",
       "      <th>Team 1</th>\n",
       "      <th>Team 2</th>\n",
       "      <th>Total Score for Team 1</th>\n",
       "      <th>Total Wicket for Team 1</th>\n",
       "      <th>Total Score for Team 2</th>\n",
       "      <th>Total Wicket for Team 2</th>\n",
       "      <th>Batting team</th>\n",
       "      <th>Bowling team</th>\n",
       "      <th>Over Number</th>\n",
       "      <th>Runs Scored in over</th>\n",
       "      <th>Runs Scored till that over</th>\n",
       "      <th>Wicket Taken in over</th>\n",
       "      <th>Wickets Taken till that over</th>\n",
       "      <th>Winning Details</th>\n",
       "      <th>Match Detail</th>\n",
       "    </tr>\n",
       "  </thead>\n",
       "  <tbody>\n",
       "    <tr>\n",
       "      <th>0</th>\n",
       "      <td>2023</td>\n",
       "      <td>1st Match (D/N)</td>\n",
       "      <td>Ahmedabad</td>\n",
       "      <td>October 05 2023</td>\n",
       "      <td>New Zealand</td>\n",
       "      <td>ENG</td>\n",
       "      <td>NZ</td>\n",
       "      <td>282</td>\n",
       "      <td>9</td>\n",
       "      <td>283</td>\n",
       "      <td>1</td>\n",
       "      <td>ENG</td>\n",
       "      <td>NZ</td>\n",
       "      <td>1</td>\n",
       "      <td>12</td>\n",
       "      <td>12</td>\n",
       "      <td>0</td>\n",
       "      <td>0</td>\n",
       "      <td>New Zealand won by 9 wickets (with 82 balls re...</td>\n",
       "      <td>1st Match (D/N), Ahmedabad, October 05, 2023,\\...</td>\n",
       "    </tr>\n",
       "    <tr>\n",
       "      <th>1</th>\n",
       "      <td>2023</td>\n",
       "      <td>1st Match (D/N)</td>\n",
       "      <td>Ahmedabad</td>\n",
       "      <td>October 05 2023</td>\n",
       "      <td>New Zealand</td>\n",
       "      <td>ENG</td>\n",
       "      <td>NZ</td>\n",
       "      <td>282</td>\n",
       "      <td>9</td>\n",
       "      <td>283</td>\n",
       "      <td>1</td>\n",
       "      <td>ENG</td>\n",
       "      <td>NZ</td>\n",
       "      <td>2</td>\n",
       "      <td>0</td>\n",
       "      <td>12</td>\n",
       "      <td>0</td>\n",
       "      <td>0</td>\n",
       "      <td>New Zealand won by 9 wickets (with 82 balls re...</td>\n",
       "      <td>1st Match (D/N), Ahmedabad, October 05, 2023,\\...</td>\n",
       "    </tr>\n",
       "    <tr>\n",
       "      <th>2</th>\n",
       "      <td>2023</td>\n",
       "      <td>1st Match (D/N)</td>\n",
       "      <td>Ahmedabad</td>\n",
       "      <td>October 05 2023</td>\n",
       "      <td>New Zealand</td>\n",
       "      <td>ENG</td>\n",
       "      <td>NZ</td>\n",
       "      <td>282</td>\n",
       "      <td>9</td>\n",
       "      <td>283</td>\n",
       "      <td>1</td>\n",
       "      <td>ENG</td>\n",
       "      <td>NZ</td>\n",
       "      <td>3</td>\n",
       "      <td>4</td>\n",
       "      <td>16</td>\n",
       "      <td>0</td>\n",
       "      <td>0</td>\n",
       "      <td>New Zealand won by 9 wickets (with 82 balls re...</td>\n",
       "      <td>1st Match (D/N), Ahmedabad, October 05, 2023,\\...</td>\n",
       "    </tr>\n",
       "    <tr>\n",
       "      <th>3</th>\n",
       "      <td>2023</td>\n",
       "      <td>1st Match (D/N)</td>\n",
       "      <td>Ahmedabad</td>\n",
       "      <td>October 05 2023</td>\n",
       "      <td>New Zealand</td>\n",
       "      <td>ENG</td>\n",
       "      <td>NZ</td>\n",
       "      <td>282</td>\n",
       "      <td>9</td>\n",
       "      <td>283</td>\n",
       "      <td>1</td>\n",
       "      <td>ENG</td>\n",
       "      <td>NZ</td>\n",
       "      <td>4</td>\n",
       "      <td>5</td>\n",
       "      <td>21</td>\n",
       "      <td>0</td>\n",
       "      <td>0</td>\n",
       "      <td>New Zealand won by 9 wickets (with 82 balls re...</td>\n",
       "      <td>1st Match (D/N), Ahmedabad, October 05, 2023,\\...</td>\n",
       "    </tr>\n",
       "    <tr>\n",
       "      <th>4</th>\n",
       "      <td>2023</td>\n",
       "      <td>1st Match (D/N)</td>\n",
       "      <td>Ahmedabad</td>\n",
       "      <td>October 05 2023</td>\n",
       "      <td>New Zealand</td>\n",
       "      <td>ENG</td>\n",
       "      <td>NZ</td>\n",
       "      <td>282</td>\n",
       "      <td>9</td>\n",
       "      <td>283</td>\n",
       "      <td>1</td>\n",
       "      <td>ENG</td>\n",
       "      <td>NZ</td>\n",
       "      <td>5</td>\n",
       "      <td>5</td>\n",
       "      <td>26</td>\n",
       "      <td>0</td>\n",
       "      <td>0</td>\n",
       "      <td>New Zealand won by 9 wickets (with 82 balls re...</td>\n",
       "      <td>1st Match (D/N), Ahmedabad, October 05, 2023,\\...</td>\n",
       "    </tr>\n",
       "  </tbody>\n",
       "</table>\n",
       "</div>"
      ],
      "text/plain": [
       "   Year     Match Number        City             Date        Winner Team 1  \\\n",
       "0  2023  1st Match (D/N)   Ahmedabad  October 05 2023  New Zealand     ENG   \n",
       "1  2023  1st Match (D/N)   Ahmedabad  October 05 2023  New Zealand     ENG   \n",
       "2  2023  1st Match (D/N)   Ahmedabad  October 05 2023  New Zealand     ENG   \n",
       "3  2023  1st Match (D/N)   Ahmedabad  October 05 2023  New Zealand     ENG   \n",
       "4  2023  1st Match (D/N)   Ahmedabad  October 05 2023  New Zealand     ENG   \n",
       "\n",
       "  Team 2  Total Score for Team 1  Total Wicket for Team 1  \\\n",
       "0     NZ                     282                        9   \n",
       "1     NZ                     282                        9   \n",
       "2     NZ                     282                        9   \n",
       "3     NZ                     282                        9   \n",
       "4     NZ                     282                        9   \n",
       "\n",
       "   Total Score for Team 2  Total Wicket for Team 2 Batting team Bowling team  \\\n",
       "0                     283                        1          ENG           NZ   \n",
       "1                     283                        1          ENG           NZ   \n",
       "2                     283                        1          ENG           NZ   \n",
       "3                     283                        1          ENG           NZ   \n",
       "4                     283                        1          ENG           NZ   \n",
       "\n",
       "   Over Number  Runs Scored in over  Runs Scored till that over  \\\n",
       "0            1                   12                          12   \n",
       "1            2                    0                          12   \n",
       "2            3                    4                          16   \n",
       "3            4                    5                          21   \n",
       "4            5                    5                          26   \n",
       "\n",
       "   Wicket Taken in over  Wickets Taken till that over  \\\n",
       "0                     0                             0   \n",
       "1                     0                             0   \n",
       "2                     0                             0   \n",
       "3                     0                             0   \n",
       "4                     0                             0   \n",
       "\n",
       "                                     Winning Details  \\\n",
       "0  New Zealand won by 9 wickets (with 82 balls re...   \n",
       "1  New Zealand won by 9 wickets (with 82 balls re...   \n",
       "2  New Zealand won by 9 wickets (with 82 balls re...   \n",
       "3  New Zealand won by 9 wickets (with 82 balls re...   \n",
       "4  New Zealand won by 9 wickets (with 82 balls re...   \n",
       "\n",
       "                                        Match Detail  \n",
       "0  1st Match (D/N), Ahmedabad, October 05, 2023,\\...  \n",
       "1  1st Match (D/N), Ahmedabad, October 05, 2023,\\...  \n",
       "2  1st Match (D/N), Ahmedabad, October 05, 2023,\\...  \n",
       "3  1st Match (D/N), Ahmedabad, October 05, 2023,\\...  \n",
       "4  1st Match (D/N), Ahmedabad, October 05, 2023,\\...  "
      ]
     },
     "execution_count": 124,
     "metadata": {},
     "output_type": "execute_result"
    }
   ],
   "source": [
    "df.head()"
   ]
  },
  {
   "cell_type": "code",
   "execution_count": 125,
   "id": "e31a1d73",
   "metadata": {},
   "outputs": [
    {
     "name": "stderr",
     "output_type": "stream",
     "text": [
      "/var/folders/bp/t3cvrvjj561bp294978fkxnw0000gn/T/ipykernel_33415/2953141527.py:6: SettingWithCopyWarning: \n",
      "A value is trying to be set on a copy of a slice from a DataFrame\n",
      "\n",
      "See the caveats in the documentation: https://pandas.pydata.org/pandas-docs/stable/user_guide/indexing.html#returning-a-view-versus-a-copy\n",
      "  df['Total Runs'][i] = df['Total Score for Team 1'][i]\n",
      "/var/folders/bp/t3cvrvjj561bp294978fkxnw0000gn/T/ipykernel_33415/2953141527.py:7: SettingWithCopyWarning: \n",
      "A value is trying to be set on a copy of a slice from a DataFrame\n",
      "\n",
      "See the caveats in the documentation: https://pandas.pydata.org/pandas-docs/stable/user_guide/indexing.html#returning-a-view-versus-a-copy\n",
      "  df['Total Wickets'][i] = df['Total Wicket for Team 1'][i]\n",
      "/var/folders/bp/t3cvrvjj561bp294978fkxnw0000gn/T/ipykernel_33415/2953141527.py:9: SettingWithCopyWarning: \n",
      "A value is trying to be set on a copy of a slice from a DataFrame\n",
      "\n",
      "See the caveats in the documentation: https://pandas.pydata.org/pandas-docs/stable/user_guide/indexing.html#returning-a-view-versus-a-copy\n",
      "  df['Total Runs'][i] = df['Total Score for Team 2'][i]\n",
      "/var/folders/bp/t3cvrvjj561bp294978fkxnw0000gn/T/ipykernel_33415/2953141527.py:10: SettingWithCopyWarning: \n",
      "A value is trying to be set on a copy of a slice from a DataFrame\n",
      "\n",
      "See the caveats in the documentation: https://pandas.pydata.org/pandas-docs/stable/user_guide/indexing.html#returning-a-view-versus-a-copy\n",
      "  df['Total Wickets'][i] = df['Total Wicket for Team 2'][i]\n"
     ]
    }
   ],
   "source": [
    "df['Total Runs'] = None\n",
    "df['Total Wickets'] = None\n",
    "\n",
    "for i in range(len(df)):\n",
    "    if(df['Team 1'][i] == df['Batting team'][i]):\n",
    "        df['Total Runs'][i] = df['Total Score for Team 1'][i]\n",
    "        df['Total Wickets'][i] = df['Total Wicket for Team 1'][i]\n",
    "    else:\n",
    "        df['Total Runs'][i] = df['Total Score for Team 2'][i]\n",
    "        df['Total Wickets'][i] = df['Total Wicket for Team 2'][i]\n",
    "\n",
    "df.drop(['Team 1', 'Team 2', 'Total Score for Team 1', 'Total Score for Team 2', 'Total Wicket for Team 2', 'Total Wicket for Team 1'], axis = 1, inplace = True)"
   ]
  },
  {
   "cell_type": "code",
   "execution_count": 126,
   "id": "c2d89a13",
   "metadata": {},
   "outputs": [
    {
     "name": "stdout",
     "output_type": "stream",
     "text": [
      "Shape of Dataset : (21031, 16)\n",
      "Information about Dataset -> \n",
      "<class 'pandas.core.frame.DataFrame'>\n",
      "RangeIndex: 21031 entries, 0 to 21030\n",
      "Data columns (total 16 columns):\n",
      " #   Column                        Non-Null Count  Dtype \n",
      "---  ------                        --------------  ----- \n",
      " 0   Year                          21031 non-null  int64 \n",
      " 1   Match Number                  21031 non-null  object\n",
      " 2   City                          21031 non-null  object\n",
      " 3   Date                          21031 non-null  object\n",
      " 4   Winner                        21031 non-null  object\n",
      " 5   Batting team                  21031 non-null  object\n",
      " 6   Bowling team                  21031 non-null  object\n",
      " 7   Over Number                   21031 non-null  int64 \n",
      " 8   Runs Scored in over           21031 non-null  int64 \n",
      " 9   Runs Scored till that over    21031 non-null  int64 \n",
      " 10  Wicket Taken in over          21031 non-null  int64 \n",
      " 11  Wickets Taken till that over  21031 non-null  int64 \n",
      " 12  Winning Details               21031 non-null  object\n",
      " 13  Match Detail                  21031 non-null  object\n",
      " 14  Total Runs                    21031 non-null  object\n",
      " 15  Total Wickets                 21031 non-null  object\n",
      "dtypes: int64(6), object(10)\n",
      "memory usage: 2.6+ MB\n"
     ]
    }
   ],
   "source": [
    "print(f\"Shape of Dataset : {df.shape}\")\n",
    "print(\"Information about Dataset -> \")\n",
    "df.info()"
   ]
  },
  {
   "cell_type": "code",
   "execution_count": 127,
   "id": "ef08b4fa",
   "metadata": {},
   "outputs": [
    {
     "name": "stdout",
     "output_type": "stream",
     "text": [
      "Description about Dataset -> \n"
     ]
    },
    {
     "data": {
      "text/html": [
       "<div>\n",
       "<style scoped>\n",
       "    .dataframe tbody tr th:only-of-type {\n",
       "        vertical-align: middle;\n",
       "    }\n",
       "\n",
       "    .dataframe tbody tr th {\n",
       "        vertical-align: top;\n",
       "    }\n",
       "\n",
       "    .dataframe thead th {\n",
       "        text-align: right;\n",
       "    }\n",
       "</style>\n",
       "<table border=\"1\" class=\"dataframe\">\n",
       "  <thead>\n",
       "    <tr style=\"text-align: right;\">\n",
       "      <th></th>\n",
       "      <th>Year</th>\n",
       "      <th>Over Number</th>\n",
       "      <th>Runs Scored in over</th>\n",
       "      <th>Runs Scored till that over</th>\n",
       "      <th>Wicket Taken in over</th>\n",
       "      <th>Wickets Taken till that over</th>\n",
       "    </tr>\n",
       "  </thead>\n",
       "  <tbody>\n",
       "    <tr>\n",
       "      <th>count</th>\n",
       "      <td>21031.000000</td>\n",
       "      <td>21031.000000</td>\n",
       "      <td>21031.000000</td>\n",
       "      <td>21031.000000</td>\n",
       "      <td>21031.000000</td>\n",
       "      <td>21031.000000</td>\n",
       "    </tr>\n",
       "    <tr>\n",
       "      <th>mean</th>\n",
       "      <td>2014.932290</td>\n",
       "      <td>23.391470</td>\n",
       "      <td>5.376492</td>\n",
       "      <td>116.560506</td>\n",
       "      <td>0.169749</td>\n",
       "      <td>3.004232</td>\n",
       "    </tr>\n",
       "    <tr>\n",
       "      <th>std</th>\n",
       "      <td>5.694119</td>\n",
       "      <td>13.800212</td>\n",
       "      <td>3.835236</td>\n",
       "      <td>79.200010</td>\n",
       "      <td>0.411207</td>\n",
       "      <td>2.400196</td>\n",
       "    </tr>\n",
       "    <tr>\n",
       "      <th>min</th>\n",
       "      <td>2007.000000</td>\n",
       "      <td>1.000000</td>\n",
       "      <td>0.000000</td>\n",
       "      <td>0.000000</td>\n",
       "      <td>0.000000</td>\n",
       "      <td>0.000000</td>\n",
       "    </tr>\n",
       "    <tr>\n",
       "      <th>25%</th>\n",
       "      <td>2011.000000</td>\n",
       "      <td>12.000000</td>\n",
       "      <td>3.000000</td>\n",
       "      <td>52.000000</td>\n",
       "      <td>0.000000</td>\n",
       "      <td>1.000000</td>\n",
       "    </tr>\n",
       "    <tr>\n",
       "      <th>50%</th>\n",
       "      <td>2015.000000</td>\n",
       "      <td>23.000000</td>\n",
       "      <td>5.000000</td>\n",
       "      <td>106.000000</td>\n",
       "      <td>0.000000</td>\n",
       "      <td>3.000000</td>\n",
       "    </tr>\n",
       "    <tr>\n",
       "      <th>75%</th>\n",
       "      <td>2019.000000</td>\n",
       "      <td>35.000000</td>\n",
       "      <td>7.000000</td>\n",
       "      <td>168.000000</td>\n",
       "      <td>0.000000</td>\n",
       "      <td>4.000000</td>\n",
       "    </tr>\n",
       "    <tr>\n",
       "      <th>max</th>\n",
       "      <td>2023.000000</td>\n",
       "      <td>50.000000</td>\n",
       "      <td>36.000000</td>\n",
       "      <td>428.000000</td>\n",
       "      <td>4.000000</td>\n",
       "      <td>10.000000</td>\n",
       "    </tr>\n",
       "  </tbody>\n",
       "</table>\n",
       "</div>"
      ],
      "text/plain": [
       "               Year   Over Number  Runs Scored in over  \\\n",
       "count  21031.000000  21031.000000         21031.000000   \n",
       "mean    2014.932290     23.391470             5.376492   \n",
       "std        5.694119     13.800212             3.835236   \n",
       "min     2007.000000      1.000000             0.000000   \n",
       "25%     2011.000000     12.000000             3.000000   \n",
       "50%     2015.000000     23.000000             5.000000   \n",
       "75%     2019.000000     35.000000             7.000000   \n",
       "max     2023.000000     50.000000            36.000000   \n",
       "\n",
       "       Runs Scored till that over  Wicket Taken in over  \\\n",
       "count                21031.000000          21031.000000   \n",
       "mean                   116.560506              0.169749   \n",
       "std                     79.200010              0.411207   \n",
       "min                      0.000000              0.000000   \n",
       "25%                     52.000000              0.000000   \n",
       "50%                    106.000000              0.000000   \n",
       "75%                    168.000000              0.000000   \n",
       "max                    428.000000              4.000000   \n",
       "\n",
       "       Wickets Taken till that over  \n",
       "count                  21031.000000  \n",
       "mean                       3.004232  \n",
       "std                        2.400196  \n",
       "min                        0.000000  \n",
       "25%                        1.000000  \n",
       "50%                        3.000000  \n",
       "75%                        4.000000  \n",
       "max                       10.000000  "
      ]
     },
     "execution_count": 127,
     "metadata": {},
     "output_type": "execute_result"
    }
   ],
   "source": [
    "print(\"Description about Dataset -> \")\n",
    "df.describe()"
   ]
  },
  {
   "cell_type": "code",
   "execution_count": 128,
   "id": "260d4d52",
   "metadata": {
    "scrolled": true
   },
   "outputs": [
    {
     "data": {
      "text/plain": [
       "Year                              5\n",
       "Match Number                    140\n",
       "City                             43\n",
       "Date                            191\n",
       "Winner                           17\n",
       "Batting team                     18\n",
       "Bowling team                     18\n",
       "Over Number                      50\n",
       "Runs Scored in over              34\n",
       "Runs Scored till that over      397\n",
       "Wicket Taken in over              5\n",
       "Wickets Taken till that over     11\n",
       "Winning Details                 235\n",
       "Match Detail                    239\n",
       "Total Runs                      244\n",
       "Total Wickets                    11\n",
       "dtype: int64"
      ]
     },
     "execution_count": 128,
     "metadata": {},
     "output_type": "execute_result"
    }
   ],
   "source": [
    "df.nunique()"
   ]
  },
  {
   "cell_type": "code",
   "execution_count": 129,
   "id": "4f75be5a",
   "metadata": {},
   "outputs": [
    {
     "data": {
      "text/plain": [
       "<function matplotlib.pyplot.show(close=None, block=None)>"
      ]
     },
     "execution_count": 129,
     "metadata": {},
     "output_type": "execute_result"
    },
    {
     "data": {
      "image/png": "[encoded data removed]",
      "text/plain": [
       "<Figure size 500x500 with 1 Axes>"
      ]
     },
     "metadata": {},
     "output_type": "display_data"
    }
   ],
   "source": [
    "#Runs Distribution\n",
    "sns.displot(df['Total Runs'],kde=False,bins=10)\n",
    "plt.title(\"Runs Distribution\")\n",
    "plt.show"
   ]
  },
  {
   "cell_type": "code",
   "execution_count": 130,
   "id": "a30e86d3",
   "metadata": {},
   "outputs": [
    {
     "data": {
      "text/plain": [
       "Index(['Year', 'Match Number', 'City', 'Date', 'Winner', 'Batting team',\n",
       "       'Bowling team', 'Over Number', 'Runs Scored in over',\n",
       "       'Runs Scored till that over', 'Wicket Taken in over',\n",
       "       'Wickets Taken till that over', 'Winning Details', 'Match Detail',\n",
       "       'Total Runs', 'Total Wickets'],\n",
       "      dtype='object')"
      ]
     },
     "execution_count": 130,
     "metadata": {},
     "output_type": "execute_result"
    }
   ],
   "source": [
    "df.columns"
   ]
  },
  {
   "cell_type": "markdown",
   "id": "8de54def",
   "metadata": {},
   "source": [
    "### Removing Irrelevant Columns"
   ]
  },
  {
   "cell_type": "code",
   "execution_count": 131,
   "id": "2deb2623",
   "metadata": {},
   "outputs": [
    {
     "data": {
      "text/html": [
       "<div>\n",
       "<style scoped>\n",
       "    .dataframe tbody tr th:only-of-type {\n",
       "        vertical-align: middle;\n",
       "    }\n",
       "\n",
       "    .dataframe tbody tr th {\n",
       "        vertical-align: top;\n",
       "    }\n",
       "\n",
       "    .dataframe thead th {\n",
       "        text-align: right;\n",
       "    }\n",
       "</style>\n",
       "<table border=\"1\" class=\"dataframe\">\n",
       "  <thead>\n",
       "    <tr style=\"text-align: right;\">\n",
       "      <th></th>\n",
       "      <th>Batting team</th>\n",
       "      <th>Bowling team</th>\n",
       "      <th>Over Number</th>\n",
       "      <th>Runs Scored till that over</th>\n",
       "      <th>Wickets Taken till that over</th>\n",
       "      <th>Total Runs</th>\n",
       "    </tr>\n",
       "  </thead>\n",
       "  <tbody>\n",
       "    <tr>\n",
       "      <th>0</th>\n",
       "      <td>ENG</td>\n",
       "      <td>NZ</td>\n",
       "      <td>1</td>\n",
       "      <td>12</td>\n",
       "      <td>0</td>\n",
       "      <td>282</td>\n",
       "    </tr>\n",
       "    <tr>\n",
       "      <th>1</th>\n",
       "      <td>ENG</td>\n",
       "      <td>NZ</td>\n",
       "      <td>2</td>\n",
       "      <td>12</td>\n",
       "      <td>0</td>\n",
       "      <td>282</td>\n",
       "    </tr>\n",
       "    <tr>\n",
       "      <th>2</th>\n",
       "      <td>ENG</td>\n",
       "      <td>NZ</td>\n",
       "      <td>3</td>\n",
       "      <td>16</td>\n",
       "      <td>0</td>\n",
       "      <td>282</td>\n",
       "    </tr>\n",
       "    <tr>\n",
       "      <th>3</th>\n",
       "      <td>ENG</td>\n",
       "      <td>NZ</td>\n",
       "      <td>4</td>\n",
       "      <td>21</td>\n",
       "      <td>0</td>\n",
       "      <td>282</td>\n",
       "    </tr>\n",
       "    <tr>\n",
       "      <th>4</th>\n",
       "      <td>ENG</td>\n",
       "      <td>NZ</td>\n",
       "      <td>5</td>\n",
       "      <td>26</td>\n",
       "      <td>0</td>\n",
       "      <td>282</td>\n",
       "    </tr>\n",
       "  </tbody>\n",
       "</table>\n",
       "</div>"
      ],
      "text/plain": [
       "  Batting team Bowling team  Over Number  Runs Scored till that over  \\\n",
       "0          ENG           NZ            1                          12   \n",
       "1          ENG           NZ            2                          12   \n",
       "2          ENG           NZ            3                          16   \n",
       "3          ENG           NZ            4                          21   \n",
       "4          ENG           NZ            5                          26   \n",
       "\n",
       "   Wickets Taken till that over Total Runs  \n",
       "0                             0        282  \n",
       "1                             0        282  \n",
       "2                             0        282  \n",
       "3                             0        282  \n",
       "4                             0        282  "
      ]
     },
     "execution_count": 131,
     "metadata": {},
     "output_type": "execute_result"
    }
   ],
   "source": [
    "irrelevant_columns = ['City','Year', 'Match Number', 'Date', 'Winner','Winning Details', 'Match Detail', 'Total Wickets', 'Runs Scored in over', 'Wicket Taken in over']\n",
    "df.drop(irrelevant_columns, axis = 1, inplace = True)\n",
    "df.head()"
   ]
  },
  {
   "cell_type": "markdown",
   "id": "ce49e548",
   "metadata": {},
   "source": [
    "### Removing teams with very less entries"
   ]
  },
  {
   "cell_type": "code",
   "execution_count": 132,
   "id": "f89650fe",
   "metadata": {},
   "outputs": [
    {
     "data": {
      "text/plain": [
       "array(['ENG', 'NZ', 'PAK', 'NED', 'AFG', 'BAN', 'SA', 'SL', 'AUS', 'IND',\n",
       "       'WI', 'ZIM', 'IRE', 'SCOT', 'UAE', 'KENYA', 'CAN', 'BER'],\n",
       "      dtype=object)"
      ]
     },
     "execution_count": 132,
     "metadata": {},
     "output_type": "execute_result"
    }
   ],
   "source": [
    "df['Batting team'].unique()"
   ]
  },
  {
   "cell_type": "code",
   "execution_count": 133,
   "id": "1006d3d0",
   "metadata": {},
   "outputs": [
    {
     "data": {
      "image/png": "[encoded data removed]",
      "text/plain": [
       "<Figure size 1000x600 with 1 Axes>"
      ]
     },
     "metadata": {},
     "output_type": "display_data"
    }
   ],
   "source": [
    "team_counts = df['Batting team'].value_counts()\n",
    "\n",
    "plt.figure(figsize=(10, 6))\n",
    "plt.bar(team_counts.index, team_counts.values)\n",
    "plt.title('Number of Entries for Each Team')\n",
    "plt.xlabel('Team')\n",
    "plt.ylabel('Count')\n",
    "plt.show()"
   ]
  },
  {
   "cell_type": "code",
   "execution_count": 134,
   "id": "50ef29b0",
   "metadata": {},
   "outputs": [],
   "source": [
    "popular_teams = ['ENG', 'NZ', 'PAK', 'NED', 'AFG', 'BAN', 'SA', 'SL', 'AUS', 'IND',\n",
    "       'WI', 'IRE']\n",
    "df = df[(df['Batting team'].isin(popular_teams)) & (df['Bowling team'].isin(popular_teams))]"
   ]
  },
  {
   "cell_type": "code",
   "execution_count": 135,
   "id": "a8dad818",
   "metadata": {},
   "outputs": [
    {
     "data": {
      "text/plain": [
       "AUS    1812\n",
       "SA     1776\n",
       "ENG    1771\n",
       "NZ     1744\n",
       "IND    1737\n",
       "SL     1653\n",
       "BAN    1607\n",
       "PAK    1273\n",
       "WI     1221\n",
       "AFG    1012\n",
       "IRE     784\n",
       "NED     713\n",
       "Name: Batting team, dtype: int64"
      ]
     },
     "execution_count": 135,
     "metadata": {},
     "output_type": "execute_result"
    }
   ],
   "source": [
    "team_counts = df['Batting team'].value_counts()\n",
    "team_counts"
   ]
  },
  {
   "cell_type": "markdown",
   "id": "4955583f",
   "metadata": {},
   "source": [
    "### Adding Two Additional Columns"
   ]
  },
  {
   "cell_type": "code",
   "execution_count": 136,
   "id": "26283660",
   "metadata": {},
   "outputs": [],
   "source": [
    "df['Runs in Last 5 Overs'] = df['Runs Scored till that over'].diff(periods=5).fillna(0)\n",
    "df['Wickets in Last 5 Overs'] = df['Wickets Taken till that over'].diff(periods=5).fillna(0)"
   ]
  },
  {
   "cell_type": "code",
   "execution_count": 137,
   "id": "85e04d2b",
   "metadata": {
    "scrolled": true
   },
   "outputs": [
    {
     "data": {
      "text/html": [
       "<div>\n",
       "<style scoped>\n",
       "    .dataframe tbody tr th:only-of-type {\n",
       "        vertical-align: middle;\n",
       "    }\n",
       "\n",
       "    .dataframe tbody tr th {\n",
       "        vertical-align: top;\n",
       "    }\n",
       "\n",
       "    .dataframe thead th {\n",
       "        text-align: right;\n",
       "    }\n",
       "</style>\n",
       "<table border=\"1\" class=\"dataframe\">\n",
       "  <thead>\n",
       "    <tr style=\"text-align: right;\">\n",
       "      <th></th>\n",
       "      <th>Batting team</th>\n",
       "      <th>Bowling team</th>\n",
       "      <th>Over Number</th>\n",
       "      <th>Runs Scored till that over</th>\n",
       "      <th>Wickets Taken till that over</th>\n",
       "      <th>Total Runs</th>\n",
       "      <th>Runs in Last 5 Overs</th>\n",
       "      <th>Wickets in Last 5 Overs</th>\n",
       "    </tr>\n",
       "  </thead>\n",
       "  <tbody>\n",
       "    <tr>\n",
       "      <th>0</th>\n",
       "      <td>ENG</td>\n",
       "      <td>NZ</td>\n",
       "      <td>1</td>\n",
       "      <td>12</td>\n",
       "      <td>0</td>\n",
       "      <td>282</td>\n",
       "      <td>0.0</td>\n",
       "      <td>0.0</td>\n",
       "    </tr>\n",
       "    <tr>\n",
       "      <th>1</th>\n",
       "      <td>ENG</td>\n",
       "      <td>NZ</td>\n",
       "      <td>2</td>\n",
       "      <td>12</td>\n",
       "      <td>0</td>\n",
       "      <td>282</td>\n",
       "      <td>0.0</td>\n",
       "      <td>0.0</td>\n",
       "    </tr>\n",
       "    <tr>\n",
       "      <th>2</th>\n",
       "      <td>ENG</td>\n",
       "      <td>NZ</td>\n",
       "      <td>3</td>\n",
       "      <td>16</td>\n",
       "      <td>0</td>\n",
       "      <td>282</td>\n",
       "      <td>0.0</td>\n",
       "      <td>0.0</td>\n",
       "    </tr>\n",
       "    <tr>\n",
       "      <th>3</th>\n",
       "      <td>ENG</td>\n",
       "      <td>NZ</td>\n",
       "      <td>4</td>\n",
       "      <td>21</td>\n",
       "      <td>0</td>\n",
       "      <td>282</td>\n",
       "      <td>0.0</td>\n",
       "      <td>0.0</td>\n",
       "    </tr>\n",
       "    <tr>\n",
       "      <th>4</th>\n",
       "      <td>ENG</td>\n",
       "      <td>NZ</td>\n",
       "      <td>5</td>\n",
       "      <td>26</td>\n",
       "      <td>0</td>\n",
       "      <td>282</td>\n",
       "      <td>0.0</td>\n",
       "      <td>0.0</td>\n",
       "    </tr>\n",
       "    <tr>\n",
       "      <th>5</th>\n",
       "      <td>ENG</td>\n",
       "      <td>NZ</td>\n",
       "      <td>6</td>\n",
       "      <td>35</td>\n",
       "      <td>0</td>\n",
       "      <td>282</td>\n",
       "      <td>23.0</td>\n",
       "      <td>0.0</td>\n",
       "    </tr>\n",
       "    <tr>\n",
       "      <th>6</th>\n",
       "      <td>ENG</td>\n",
       "      <td>NZ</td>\n",
       "      <td>7</td>\n",
       "      <td>39</td>\n",
       "      <td>0</td>\n",
       "      <td>282</td>\n",
       "      <td>27.0</td>\n",
       "      <td>0.0</td>\n",
       "    </tr>\n",
       "    <tr>\n",
       "      <th>7</th>\n",
       "      <td>ENG</td>\n",
       "      <td>NZ</td>\n",
       "      <td>8</td>\n",
       "      <td>41</td>\n",
       "      <td>1</td>\n",
       "      <td>282</td>\n",
       "      <td>25.0</td>\n",
       "      <td>1.0</td>\n",
       "    </tr>\n",
       "    <tr>\n",
       "      <th>8</th>\n",
       "      <td>ENG</td>\n",
       "      <td>NZ</td>\n",
       "      <td>9</td>\n",
       "      <td>46</td>\n",
       "      <td>1</td>\n",
       "      <td>282</td>\n",
       "      <td>25.0</td>\n",
       "      <td>1.0</td>\n",
       "    </tr>\n",
       "    <tr>\n",
       "      <th>9</th>\n",
       "      <td>ENG</td>\n",
       "      <td>NZ</td>\n",
       "      <td>10</td>\n",
       "      <td>51</td>\n",
       "      <td>1</td>\n",
       "      <td>282</td>\n",
       "      <td>25.0</td>\n",
       "      <td>1.0</td>\n",
       "    </tr>\n",
       "    <tr>\n",
       "      <th>10</th>\n",
       "      <td>ENG</td>\n",
       "      <td>NZ</td>\n",
       "      <td>11</td>\n",
       "      <td>54</td>\n",
       "      <td>1</td>\n",
       "      <td>282</td>\n",
       "      <td>19.0</td>\n",
       "      <td>1.0</td>\n",
       "    </tr>\n",
       "    <tr>\n",
       "      <th>11</th>\n",
       "      <td>ENG</td>\n",
       "      <td>NZ</td>\n",
       "      <td>12</td>\n",
       "      <td>61</td>\n",
       "      <td>1</td>\n",
       "      <td>282</td>\n",
       "      <td>22.0</td>\n",
       "      <td>1.0</td>\n",
       "    </tr>\n",
       "    <tr>\n",
       "      <th>12</th>\n",
       "      <td>ENG</td>\n",
       "      <td>NZ</td>\n",
       "      <td>13</td>\n",
       "      <td>64</td>\n",
       "      <td>2</td>\n",
       "      <td>282</td>\n",
       "      <td>23.0</td>\n",
       "      <td>1.0</td>\n",
       "    </tr>\n",
       "    <tr>\n",
       "      <th>13</th>\n",
       "      <td>ENG</td>\n",
       "      <td>NZ</td>\n",
       "      <td>14</td>\n",
       "      <td>69</td>\n",
       "      <td>2</td>\n",
       "      <td>282</td>\n",
       "      <td>23.0</td>\n",
       "      <td>1.0</td>\n",
       "    </tr>\n",
       "    <tr>\n",
       "      <th>14</th>\n",
       "      <td>ENG</td>\n",
       "      <td>NZ</td>\n",
       "      <td>15</td>\n",
       "      <td>73</td>\n",
       "      <td>2</td>\n",
       "      <td>282</td>\n",
       "      <td>22.0</td>\n",
       "      <td>1.0</td>\n",
       "    </tr>\n",
       "    <tr>\n",
       "      <th>15</th>\n",
       "      <td>ENG</td>\n",
       "      <td>NZ</td>\n",
       "      <td>16</td>\n",
       "      <td>79</td>\n",
       "      <td>2</td>\n",
       "      <td>282</td>\n",
       "      <td>25.0</td>\n",
       "      <td>1.0</td>\n",
       "    </tr>\n",
       "    <tr>\n",
       "      <th>16</th>\n",
       "      <td>ENG</td>\n",
       "      <td>NZ</td>\n",
       "      <td>17</td>\n",
       "      <td>94</td>\n",
       "      <td>3</td>\n",
       "      <td>282</td>\n",
       "      <td>33.0</td>\n",
       "      <td>2.0</td>\n",
       "    </tr>\n",
       "    <tr>\n",
       "      <th>17</th>\n",
       "      <td>ENG</td>\n",
       "      <td>NZ</td>\n",
       "      <td>18</td>\n",
       "      <td>105</td>\n",
       "      <td>3</td>\n",
       "      <td>282</td>\n",
       "      <td>41.0</td>\n",
       "      <td>1.0</td>\n",
       "    </tr>\n",
       "    <tr>\n",
       "      <th>18</th>\n",
       "      <td>ENG</td>\n",
       "      <td>NZ</td>\n",
       "      <td>19</td>\n",
       "      <td>109</td>\n",
       "      <td>3</td>\n",
       "      <td>282</td>\n",
       "      <td>40.0</td>\n",
       "      <td>1.0</td>\n",
       "    </tr>\n",
       "    <tr>\n",
       "      <th>19</th>\n",
       "      <td>ENG</td>\n",
       "      <td>NZ</td>\n",
       "      <td>20</td>\n",
       "      <td>112</td>\n",
       "      <td>3</td>\n",
       "      <td>282</td>\n",
       "      <td>39.0</td>\n",
       "      <td>1.0</td>\n",
       "    </tr>\n",
       "  </tbody>\n",
       "</table>\n",
       "</div>"
      ],
      "text/plain": [
       "   Batting team Bowling team  Over Number  Runs Scored till that over  \\\n",
       "0           ENG           NZ            1                          12   \n",
       "1           ENG           NZ            2                          12   \n",
       "2           ENG           NZ            3                          16   \n",
       "3           ENG           NZ            4                          21   \n",
       "4           ENG           NZ            5                          26   \n",
       "5           ENG           NZ            6                          35   \n",
       "6           ENG           NZ            7                          39   \n",
       "7           ENG           NZ            8                          41   \n",
       "8           ENG           NZ            9                          46   \n",
       "9           ENG           NZ           10                          51   \n",
       "10          ENG           NZ           11                          54   \n",
       "11          ENG           NZ           12                          61   \n",
       "12          ENG           NZ           13                          64   \n",
       "13          ENG           NZ           14                          69   \n",
       "14          ENG           NZ           15                          73   \n",
       "15          ENG           NZ           16                          79   \n",
       "16          ENG           NZ           17                          94   \n",
       "17          ENG           NZ           18                         105   \n",
       "18          ENG           NZ           19                         109   \n",
       "19          ENG           NZ           20                         112   \n",
       "\n",
       "    Wickets Taken till that over Total Runs  Runs in Last 5 Overs  \\\n",
       "0                              0        282                   0.0   \n",
       "1                              0        282                   0.0   \n",
       "2                              0        282                   0.0   \n",
       "3                              0        282                   0.0   \n",
       "4                              0        282                   0.0   \n",
       "5                              0        282                  23.0   \n",
       "6                              0        282                  27.0   \n",
       "7                              1        282                  25.0   \n",
       "8                              1        282                  25.0   \n",
       "9                              1        282                  25.0   \n",
       "10                             1        282                  19.0   \n",
       "11                             1        282                  22.0   \n",
       "12                             2        282                  23.0   \n",
       "13                             2        282                  23.0   \n",
       "14                             2        282                  22.0   \n",
       "15                             2        282                  25.0   \n",
       "16                             3        282                  33.0   \n",
       "17                             3        282                  41.0   \n",
       "18                             3        282                  40.0   \n",
       "19                             3        282                  39.0   \n",
       "\n",
       "    Wickets in Last 5 Overs  \n",
       "0                       0.0  \n",
       "1                       0.0  \n",
       "2                       0.0  \n",
       "3                       0.0  \n",
       "4                       0.0  \n",
       "5                       0.0  \n",
       "6                       0.0  \n",
       "7                       1.0  \n",
       "8                       1.0  \n",
       "9                       1.0  \n",
       "10                      1.0  \n",
       "11                      1.0  \n",
       "12                      1.0  \n",
       "13                      1.0  \n",
       "14                      1.0  \n",
       "15                      1.0  \n",
       "16                      2.0  \n",
       "17                      1.0  \n",
       "18                      1.0  \n",
       "19                      1.0  "
      ]
     },
     "execution_count": 137,
     "metadata": {},
     "output_type": "execute_result"
    }
   ],
   "source": [
    "df.head(20)"
   ]
  },
  {
   "cell_type": "markdown",
   "id": "dfb440da",
   "metadata": {},
   "source": [
    "### Removing First 5 over of Every Match"
   ]
  },
  {
   "cell_type": "code",
   "execution_count": 138,
   "id": "6bcfbfc6",
   "metadata": {},
   "outputs": [],
   "source": [
    "df = df[df['Over Number'] >= 5]\n",
    "df = df.reset_index(drop = True)"
   ]
  },
  {
   "cell_type": "code",
   "execution_count": 139,
   "id": "8bb50ab9",
   "metadata": {},
   "outputs": [
    {
     "data": {
      "text/html": [
       "<div>\n",
       "<style scoped>\n",
       "    .dataframe tbody tr th:only-of-type {\n",
       "        vertical-align: middle;\n",
       "    }\n",
       "\n",
       "    .dataframe tbody tr th {\n",
       "        vertical-align: top;\n",
       "    }\n",
       "\n",
       "    .dataframe thead th {\n",
       "        text-align: right;\n",
       "    }\n",
       "</style>\n",
       "<table border=\"1\" class=\"dataframe\">\n",
       "  <thead>\n",
       "    <tr style=\"text-align: right;\">\n",
       "      <th></th>\n",
       "      <th>Batting team</th>\n",
       "      <th>Bowling team</th>\n",
       "      <th>Over Number</th>\n",
       "      <th>Runs Scored till that over</th>\n",
       "      <th>Wickets Taken till that over</th>\n",
       "      <th>Total Runs</th>\n",
       "      <th>Runs in Last 5 Overs</th>\n",
       "      <th>Wickets in Last 5 Overs</th>\n",
       "    </tr>\n",
       "  </thead>\n",
       "  <tbody>\n",
       "    <tr>\n",
       "      <th>0</th>\n",
       "      <td>ENG</td>\n",
       "      <td>NZ</td>\n",
       "      <td>5</td>\n",
       "      <td>26</td>\n",
       "      <td>0</td>\n",
       "      <td>282</td>\n",
       "      <td>0.0</td>\n",
       "      <td>0.0</td>\n",
       "    </tr>\n",
       "    <tr>\n",
       "      <th>1</th>\n",
       "      <td>ENG</td>\n",
       "      <td>NZ</td>\n",
       "      <td>6</td>\n",
       "      <td>35</td>\n",
       "      <td>0</td>\n",
       "      <td>282</td>\n",
       "      <td>23.0</td>\n",
       "      <td>0.0</td>\n",
       "    </tr>\n",
       "    <tr>\n",
       "      <th>2</th>\n",
       "      <td>ENG</td>\n",
       "      <td>NZ</td>\n",
       "      <td>7</td>\n",
       "      <td>39</td>\n",
       "      <td>0</td>\n",
       "      <td>282</td>\n",
       "      <td>27.0</td>\n",
       "      <td>0.0</td>\n",
       "    </tr>\n",
       "    <tr>\n",
       "      <th>3</th>\n",
       "      <td>ENG</td>\n",
       "      <td>NZ</td>\n",
       "      <td>8</td>\n",
       "      <td>41</td>\n",
       "      <td>1</td>\n",
       "      <td>282</td>\n",
       "      <td>25.0</td>\n",
       "      <td>1.0</td>\n",
       "    </tr>\n",
       "    <tr>\n",
       "      <th>4</th>\n",
       "      <td>ENG</td>\n",
       "      <td>NZ</td>\n",
       "      <td>9</td>\n",
       "      <td>46</td>\n",
       "      <td>1</td>\n",
       "      <td>282</td>\n",
       "      <td>25.0</td>\n",
       "      <td>1.0</td>\n",
       "    </tr>\n",
       "  </tbody>\n",
       "</table>\n",
       "</div>"
      ],
      "text/plain": [
       "  Batting team Bowling team  Over Number  Runs Scored till that over  \\\n",
       "0          ENG           NZ            5                          26   \n",
       "1          ENG           NZ            6                          35   \n",
       "2          ENG           NZ            7                          39   \n",
       "3          ENG           NZ            8                          41   \n",
       "4          ENG           NZ            9                          46   \n",
       "\n",
       "   Wickets Taken till that over Total Runs  Runs in Last 5 Overs  \\\n",
       "0                             0        282                   0.0   \n",
       "1                             0        282                  23.0   \n",
       "2                             0        282                  27.0   \n",
       "3                             1        282                  25.0   \n",
       "4                             1        282                  25.0   \n",
       "\n",
       "   Wickets in Last 5 Overs  \n",
       "0                      0.0  \n",
       "1                      0.0  \n",
       "2                      0.0  \n",
       "3                      1.0  \n",
       "4                      1.0  "
      ]
     },
     "execution_count": 139,
     "metadata": {},
     "output_type": "execute_result"
    }
   ],
   "source": [
    "df.head()"
   ]
  },
  {
   "cell_type": "markdown",
   "id": "82807049",
   "metadata": {},
   "source": [
    "### Plotting a Correlation matrix"
   ]
  },
  {
   "cell_type": "code",
   "execution_count": 140,
   "id": "40706157",
   "metadata": {},
   "outputs": [
    {
     "name": "stderr",
     "output_type": "stream",
     "text": [
      "/var/folders/bp/t3cvrvjj561bp294978fkxnw0000gn/T/ipykernel_33415/2459787582.py:2: FutureWarning: The default value of numeric_only in DataFrame.corr is deprecated. In a future version, it will default to False. Select only valid columns or specify the value of numeric_only to silence this warning.\n",
      "  heatmap(data=df.corr(), annot=True)\n"
     ]
    },
    {
     "data": {
      "text/plain": [
       "<Axes: >"
      ]
     },
     "execution_count": 140,
     "metadata": {},
     "output_type": "execute_result"
    },
    {
     "data": {
      "image/png": "[encoded data removed]",
      "text/plain": [
       "<Figure size 640x480 with 2 Axes>"
      ]
     },
     "metadata": {},
     "output_type": "display_data"
    }
   ],
   "source": [
    "from seaborn import heatmap\n",
    "heatmap(data=df.corr(), annot=True)"
   ]
  },
  {
   "cell_type": "markdown",
   "id": "56aa8187",
   "metadata": {},
   "source": [
    "### Performing Label Encoding and One Hot Encoding"
   ]
  },
  {
   "cell_type": "code",
   "execution_count": 141,
   "id": "f3cc1e17",
   "metadata": {},
   "outputs": [
    {
     "data": {
      "text/html": [
       "<div>\n",
       "<style scoped>\n",
       "    .dataframe tbody tr th:only-of-type {\n",
       "        vertical-align: middle;\n",
       "    }\n",
       "\n",
       "    .dataframe tbody tr th {\n",
       "        vertical-align: top;\n",
       "    }\n",
       "\n",
       "    .dataframe thead th {\n",
       "        text-align: right;\n",
       "    }\n",
       "</style>\n",
       "<table border=\"1\" class=\"dataframe\">\n",
       "  <thead>\n",
       "    <tr style=\"text-align: right;\">\n",
       "      <th></th>\n",
       "      <th>Batting team</th>\n",
       "      <th>Bowling team</th>\n",
       "      <th>Over Number</th>\n",
       "      <th>Runs Scored till that over</th>\n",
       "      <th>Wickets Taken till that over</th>\n",
       "      <th>Total Runs</th>\n",
       "      <th>Runs in Last 5 Overs</th>\n",
       "      <th>Wickets in Last 5 Overs</th>\n",
       "    </tr>\n",
       "  </thead>\n",
       "  <tbody>\n",
       "    <tr>\n",
       "      <th>0</th>\n",
       "      <td>3</td>\n",
       "      <td>7</td>\n",
       "      <td>5</td>\n",
       "      <td>26</td>\n",
       "      <td>0</td>\n",
       "      <td>282</td>\n",
       "      <td>0.0</td>\n",
       "      <td>0.0</td>\n",
       "    </tr>\n",
       "    <tr>\n",
       "      <th>1</th>\n",
       "      <td>3</td>\n",
       "      <td>7</td>\n",
       "      <td>6</td>\n",
       "      <td>35</td>\n",
       "      <td>0</td>\n",
       "      <td>282</td>\n",
       "      <td>23.0</td>\n",
       "      <td>0.0</td>\n",
       "    </tr>\n",
       "    <tr>\n",
       "      <th>2</th>\n",
       "      <td>3</td>\n",
       "      <td>7</td>\n",
       "      <td>7</td>\n",
       "      <td>39</td>\n",
       "      <td>0</td>\n",
       "      <td>282</td>\n",
       "      <td>27.0</td>\n",
       "      <td>0.0</td>\n",
       "    </tr>\n",
       "    <tr>\n",
       "      <th>3</th>\n",
       "      <td>3</td>\n",
       "      <td>7</td>\n",
       "      <td>8</td>\n",
       "      <td>41</td>\n",
       "      <td>1</td>\n",
       "      <td>282</td>\n",
       "      <td>25.0</td>\n",
       "      <td>1.0</td>\n",
       "    </tr>\n",
       "    <tr>\n",
       "      <th>4</th>\n",
       "      <td>3</td>\n",
       "      <td>7</td>\n",
       "      <td>9</td>\n",
       "      <td>46</td>\n",
       "      <td>1</td>\n",
       "      <td>282</td>\n",
       "      <td>25.0</td>\n",
       "      <td>1.0</td>\n",
       "    </tr>\n",
       "  </tbody>\n",
       "</table>\n",
       "</div>"
      ],
      "text/plain": [
       "   Batting team  Bowling team  Over Number  Runs Scored till that over  \\\n",
       "0             3             7            5                          26   \n",
       "1             3             7            6                          35   \n",
       "2             3             7            7                          39   \n",
       "3             3             7            8                          41   \n",
       "4             3             7            9                          46   \n",
       "\n",
       "   Wickets Taken till that over Total Runs  Runs in Last 5 Overs  \\\n",
       "0                             0        282                   0.0   \n",
       "1                             0        282                  23.0   \n",
       "2                             0        282                  27.0   \n",
       "3                             1        282                  25.0   \n",
       "4                             1        282                  25.0   \n",
       "\n",
       "   Wickets in Last 5 Overs  \n",
       "0                      0.0  \n",
       "1                      0.0  \n",
       "2                      0.0  \n",
       "3                      1.0  \n",
       "4                      1.0  "
      ]
     },
     "execution_count": 141,
     "metadata": {},
     "output_type": "execute_result"
    }
   ],
   "source": [
    "L = LabelEncoder()\n",
    "for col in ['Batting team', 'Bowling team']:\n",
    "  df[col] = L.fit_transform(df[col])\n",
    "df.head()"
   ]
  },
  {
   "cell_type": "code",
   "execution_count": 142,
   "id": "5569098e",
   "metadata": {},
   "outputs": [
    {
     "name": "stdout",
     "output_type": "stream",
     "text": [
      "Batting team: {'AFG': 0, 'AUS': 1, 'BAN': 2, 'ENG': 3, 'IND': 4, 'IRE': 5, 'NED': 6, 'NZ': 7, 'PAK': 8, 'SA': 9, 'SL': 10, 'WI': 11}\n",
      "Bowling team: {'AFG': 0, 'AUS': 1, 'BAN': 2, 'ENG': 3, 'IND': 4, 'IRE': 5, 'NED': 6, 'NZ': 7, 'PAK': 8, 'SA': 9, 'SL': 10, 'WI': 11}\n"
     ]
    }
   ],
   "source": [
    "for col in ['Batting team', 'Bowling team']:\n",
    "    print(f\"{col}: {dict(zip(L.classes_, L.transform(L.classes_)))}\")"
   ]
  },
  {
   "cell_type": "code",
   "execution_count": 143,
   "id": "8368a892",
   "metadata": {},
   "outputs": [],
   "source": [
    "columns =  ['Over Number', 'Runs Scored till that over',\n",
    "       'Wickets Taken till that over', 'Total Runs', 'Runs in Last 5 Overs',\n",
    "       'Wickets in Last 5 Overs', 'Batting team AFG', 'Batting team AUS',\n",
    "       'Batting team BAN', 'Batting team ENG', 'Batting team IND', 'Batting team IRE',\n",
    "       'Batting team NED', 'Batting team NZ', 'Batting team PAK', 'Batting team SA',\n",
    "       'Batting team SL', 'Batting team WI', 'Bowling team AFG',\n",
    "       'Bowling team AUS', 'Bowling team BAN', 'Bowling team ENG', 'Bowling team IND',\n",
    "       'Bowling team IRE', 'Bowling team NED', 'Bowling team NZ', 'Bowling team PAK',\n",
    "       'Bowling team SA', 'Bowling team SL', 'Bowling team WI']"
   ]
  },
  {
   "cell_type": "code",
   "execution_count": 144,
   "id": "ec20fc76",
   "metadata": {},
   "outputs": [],
   "source": [
    "df_encoded = pd.get_dummies(df, columns=['Batting team', 'Bowling team'])"
   ]
  },
  {
   "cell_type": "code",
   "execution_count": 145,
   "id": "a7e4ba1f",
   "metadata": {},
   "outputs": [
    {
     "data": {
      "text/html": [
       "<div>\n",
       "<style scoped>\n",
       "    .dataframe tbody tr th:only-of-type {\n",
       "        vertical-align: middle;\n",
       "    }\n",
       "\n",
       "    .dataframe tbody tr th {\n",
       "        vertical-align: top;\n",
       "    }\n",
       "\n",
       "    .dataframe thead th {\n",
       "        text-align: right;\n",
       "    }\n",
       "</style>\n",
       "<table border=\"1\" class=\"dataframe\">\n",
       "  <thead>\n",
       "    <tr style=\"text-align: right;\">\n",
       "      <th></th>\n",
       "      <th>Over Number</th>\n",
       "      <th>Runs Scored till that over</th>\n",
       "      <th>Wickets Taken till that over</th>\n",
       "      <th>Total Runs</th>\n",
       "      <th>Runs in Last 5 Overs</th>\n",
       "      <th>Wickets in Last 5 Overs</th>\n",
       "      <th>Batting team_0</th>\n",
       "      <th>Batting team_1</th>\n",
       "      <th>Batting team_2</th>\n",
       "      <th>Batting team_3</th>\n",
       "      <th>...</th>\n",
       "      <th>Bowling team_2</th>\n",
       "      <th>Bowling team_3</th>\n",
       "      <th>Bowling team_4</th>\n",
       "      <th>Bowling team_5</th>\n",
       "      <th>Bowling team_6</th>\n",
       "      <th>Bowling team_7</th>\n",
       "      <th>Bowling team_8</th>\n",
       "      <th>Bowling team_9</th>\n",
       "      <th>Bowling team_10</th>\n",
       "      <th>Bowling team_11</th>\n",
       "    </tr>\n",
       "  </thead>\n",
       "  <tbody>\n",
       "    <tr>\n",
       "      <th>0</th>\n",
       "      <td>5</td>\n",
       "      <td>26</td>\n",
       "      <td>0</td>\n",
       "      <td>282</td>\n",
       "      <td>0.0</td>\n",
       "      <td>0.0</td>\n",
       "      <td>0</td>\n",
       "      <td>0</td>\n",
       "      <td>0</td>\n",
       "      <td>1</td>\n",
       "      <td>...</td>\n",
       "      <td>0</td>\n",
       "      <td>0</td>\n",
       "      <td>0</td>\n",
       "      <td>0</td>\n",
       "      <td>0</td>\n",
       "      <td>1</td>\n",
       "      <td>0</td>\n",
       "      <td>0</td>\n",
       "      <td>0</td>\n",
       "      <td>0</td>\n",
       "    </tr>\n",
       "    <tr>\n",
       "      <th>1</th>\n",
       "      <td>6</td>\n",
       "      <td>35</td>\n",
       "      <td>0</td>\n",
       "      <td>282</td>\n",
       "      <td>23.0</td>\n",
       "      <td>0.0</td>\n",
       "      <td>0</td>\n",
       "      <td>0</td>\n",
       "      <td>0</td>\n",
       "      <td>1</td>\n",
       "      <td>...</td>\n",
       "      <td>0</td>\n",
       "      <td>0</td>\n",
       "      <td>0</td>\n",
       "      <td>0</td>\n",
       "      <td>0</td>\n",
       "      <td>1</td>\n",
       "      <td>0</td>\n",
       "      <td>0</td>\n",
       "      <td>0</td>\n",
       "      <td>0</td>\n",
       "    </tr>\n",
       "    <tr>\n",
       "      <th>2</th>\n",
       "      <td>7</td>\n",
       "      <td>39</td>\n",
       "      <td>0</td>\n",
       "      <td>282</td>\n",
       "      <td>27.0</td>\n",
       "      <td>0.0</td>\n",
       "      <td>0</td>\n",
       "      <td>0</td>\n",
       "      <td>0</td>\n",
       "      <td>1</td>\n",
       "      <td>...</td>\n",
       "      <td>0</td>\n",
       "      <td>0</td>\n",
       "      <td>0</td>\n",
       "      <td>0</td>\n",
       "      <td>0</td>\n",
       "      <td>1</td>\n",
       "      <td>0</td>\n",
       "      <td>0</td>\n",
       "      <td>0</td>\n",
       "      <td>0</td>\n",
       "    </tr>\n",
       "    <tr>\n",
       "      <th>3</th>\n",
       "      <td>8</td>\n",
       "      <td>41</td>\n",
       "      <td>1</td>\n",
       "      <td>282</td>\n",
       "      <td>25.0</td>\n",
       "      <td>1.0</td>\n",
       "      <td>0</td>\n",
       "      <td>0</td>\n",
       "      <td>0</td>\n",
       "      <td>1</td>\n",
       "      <td>...</td>\n",
       "      <td>0</td>\n",
       "      <td>0</td>\n",
       "      <td>0</td>\n",
       "      <td>0</td>\n",
       "      <td>0</td>\n",
       "      <td>1</td>\n",
       "      <td>0</td>\n",
       "      <td>0</td>\n",
       "      <td>0</td>\n",
       "      <td>0</td>\n",
       "    </tr>\n",
       "    <tr>\n",
       "      <th>4</th>\n",
       "      <td>9</td>\n",
       "      <td>46</td>\n",
       "      <td>1</td>\n",
       "      <td>282</td>\n",
       "      <td>25.0</td>\n",
       "      <td>1.0</td>\n",
       "      <td>0</td>\n",
       "      <td>0</td>\n",
       "      <td>0</td>\n",
       "      <td>1</td>\n",
       "      <td>...</td>\n",
       "      <td>0</td>\n",
       "      <td>0</td>\n",
       "      <td>0</td>\n",
       "      <td>0</td>\n",
       "      <td>0</td>\n",
       "      <td>1</td>\n",
       "      <td>0</td>\n",
       "      <td>0</td>\n",
       "      <td>0</td>\n",
       "      <td>0</td>\n",
       "    </tr>\n",
       "  </tbody>\n",
       "</table>\n",
       "<p>5 rows × 30 columns</p>\n",
       "</div>"
      ],
      "text/plain": [
       "   Over Number  Runs Scored till that over  Wickets Taken till that over  \\\n",
       "0            5                          26                             0   \n",
       "1            6                          35                             0   \n",
       "2            7                          39                             0   \n",
       "3            8                          41                             1   \n",
       "4            9                          46                             1   \n",
       "\n",
       "  Total Runs  Runs in Last 5 Overs  Wickets in Last 5 Overs  Batting team_0  \\\n",
       "0        282                   0.0                      0.0               0   \n",
       "1        282                  23.0                      0.0               0   \n",
       "2        282                  27.0                      0.0               0   \n",
       "3        282                  25.0                      1.0               0   \n",
       "4        282                  25.0                      1.0               0   \n",
       "\n",
       "   Batting team_1  Batting team_2  Batting team_3  ...  Bowling team_2  \\\n",
       "0               0               0               1  ...               0   \n",
       "1               0               0               1  ...               0   \n",
       "2               0               0               1  ...               0   \n",
       "3               0               0               1  ...               0   \n",
       "4               0               0               1  ...               0   \n",
       "\n",
       "   Bowling team_3  Bowling team_4  Bowling team_5  Bowling team_6  \\\n",
       "0               0               0               0               0   \n",
       "1               0               0               0               0   \n",
       "2               0               0               0               0   \n",
       "3               0               0               0               0   \n",
       "4               0               0               0               0   \n",
       "\n",
       "   Bowling team_7  Bowling team_8  Bowling team_9  Bowling team_10  \\\n",
       "0               1               0               0                0   \n",
       "1               1               0               0                0   \n",
       "2               1               0               0                0   \n",
       "3               1               0               0                0   \n",
       "4               1               0               0                0   \n",
       "\n",
       "   Bowling team_11  \n",
       "0                0  \n",
       "1                0  \n",
       "2                0  \n",
       "3                0  \n",
       "4                0  \n",
       "\n",
       "[5 rows x 30 columns]"
      ]
     },
     "execution_count": 145,
     "metadata": {},
     "output_type": "execute_result"
    }
   ],
   "source": [
    "df_encoded.head()"
   ]
  },
  {
   "cell_type": "code",
   "execution_count": 146,
   "id": "9d10b2fe",
   "metadata": {},
   "outputs": [],
   "source": [
    "df_encoded.columns = columns"
   ]
  },
  {
   "cell_type": "code",
   "execution_count": 147,
   "id": "50e39b0f",
   "metadata": {},
   "outputs": [
    {
     "data": {
      "text/html": [
       "<div>\n",
       "<style scoped>\n",
       "    .dataframe tbody tr th:only-of-type {\n",
       "        vertical-align: middle;\n",
       "    }\n",
       "\n",
       "    .dataframe tbody tr th {\n",
       "        vertical-align: top;\n",
       "    }\n",
       "\n",
       "    .dataframe thead th {\n",
       "        text-align: right;\n",
       "    }\n",
       "</style>\n",
       "<table border=\"1\" class=\"dataframe\">\n",
       "  <thead>\n",
       "    <tr style=\"text-align: right;\">\n",
       "      <th></th>\n",
       "      <th>Over Number</th>\n",
       "      <th>Runs Scored till that over</th>\n",
       "      <th>Wickets Taken till that over</th>\n",
       "      <th>Total Runs</th>\n",
       "      <th>Runs in Last 5 Overs</th>\n",
       "      <th>Wickets in Last 5 Overs</th>\n",
       "      <th>Batting team AFG</th>\n",
       "      <th>Batting team AUS</th>\n",
       "      <th>Batting team BAN</th>\n",
       "      <th>Batting team ENG</th>\n",
       "      <th>...</th>\n",
       "      <th>Bowling team BAN</th>\n",
       "      <th>Bowling team ENG</th>\n",
       "      <th>Bowling team IND</th>\n",
       "      <th>Bowling team IRE</th>\n",
       "      <th>Bowling team NED</th>\n",
       "      <th>Bowling team NZ</th>\n",
       "      <th>Bowling team PAK</th>\n",
       "      <th>Bowling team SA</th>\n",
       "      <th>Bowling team SL</th>\n",
       "      <th>Bowling team WI</th>\n",
       "    </tr>\n",
       "  </thead>\n",
       "  <tbody>\n",
       "    <tr>\n",
       "      <th>0</th>\n",
       "      <td>5</td>\n",
       "      <td>26</td>\n",
       "      <td>0</td>\n",
       "      <td>282</td>\n",
       "      <td>0.0</td>\n",
       "      <td>0.0</td>\n",
       "      <td>0</td>\n",
       "      <td>0</td>\n",
       "      <td>0</td>\n",
       "      <td>1</td>\n",
       "      <td>...</td>\n",
       "      <td>0</td>\n",
       "      <td>0</td>\n",
       "      <td>0</td>\n",
       "      <td>0</td>\n",
       "      <td>0</td>\n",
       "      <td>1</td>\n",
       "      <td>0</td>\n",
       "      <td>0</td>\n",
       "      <td>0</td>\n",
       "      <td>0</td>\n",
       "    </tr>\n",
       "    <tr>\n",
       "      <th>1</th>\n",
       "      <td>6</td>\n",
       "      <td>35</td>\n",
       "      <td>0</td>\n",
       "      <td>282</td>\n",
       "      <td>23.0</td>\n",
       "      <td>0.0</td>\n",
       "      <td>0</td>\n",
       "      <td>0</td>\n",
       "      <td>0</td>\n",
       "      <td>1</td>\n",
       "      <td>...</td>\n",
       "      <td>0</td>\n",
       "      <td>0</td>\n",
       "      <td>0</td>\n",
       "      <td>0</td>\n",
       "      <td>0</td>\n",
       "      <td>1</td>\n",
       "      <td>0</td>\n",
       "      <td>0</td>\n",
       "      <td>0</td>\n",
       "      <td>0</td>\n",
       "    </tr>\n",
       "    <tr>\n",
       "      <th>2</th>\n",
       "      <td>7</td>\n",
       "      <td>39</td>\n",
       "      <td>0</td>\n",
       "      <td>282</td>\n",
       "      <td>27.0</td>\n",
       "      <td>0.0</td>\n",
       "      <td>0</td>\n",
       "      <td>0</td>\n",
       "      <td>0</td>\n",
       "      <td>1</td>\n",
       "      <td>...</td>\n",
       "      <td>0</td>\n",
       "      <td>0</td>\n",
       "      <td>0</td>\n",
       "      <td>0</td>\n",
       "      <td>0</td>\n",
       "      <td>1</td>\n",
       "      <td>0</td>\n",
       "      <td>0</td>\n",
       "      <td>0</td>\n",
       "      <td>0</td>\n",
       "    </tr>\n",
       "    <tr>\n",
       "      <th>3</th>\n",
       "      <td>8</td>\n",
       "      <td>41</td>\n",
       "      <td>1</td>\n",
       "      <td>282</td>\n",
       "      <td>25.0</td>\n",
       "      <td>1.0</td>\n",
       "      <td>0</td>\n",
       "      <td>0</td>\n",
       "      <td>0</td>\n",
       "      <td>1</td>\n",
       "      <td>...</td>\n",
       "      <td>0</td>\n",
       "      <td>0</td>\n",
       "      <td>0</td>\n",
       "      <td>0</td>\n",
       "      <td>0</td>\n",
       "      <td>1</td>\n",
       "      <td>0</td>\n",
       "      <td>0</td>\n",
       "      <td>0</td>\n",
       "      <td>0</td>\n",
       "    </tr>\n",
       "    <tr>\n",
       "      <th>4</th>\n",
       "      <td>9</td>\n",
       "      <td>46</td>\n",
       "      <td>1</td>\n",
       "      <td>282</td>\n",
       "      <td>25.0</td>\n",
       "      <td>1.0</td>\n",
       "      <td>0</td>\n",
       "      <td>0</td>\n",
       "      <td>0</td>\n",
       "      <td>1</td>\n",
       "      <td>...</td>\n",
       "      <td>0</td>\n",
       "      <td>0</td>\n",
       "      <td>0</td>\n",
       "      <td>0</td>\n",
       "      <td>0</td>\n",
       "      <td>1</td>\n",
       "      <td>0</td>\n",
       "      <td>0</td>\n",
       "      <td>0</td>\n",
       "      <td>0</td>\n",
       "    </tr>\n",
       "  </tbody>\n",
       "</table>\n",
       "<p>5 rows × 30 columns</p>\n",
       "</div>"
      ],
      "text/plain": [
       "   Over Number  Runs Scored till that over  Wickets Taken till that over  \\\n",
       "0            5                          26                             0   \n",
       "1            6                          35                             0   \n",
       "2            7                          39                             0   \n",
       "3            8                          41                             1   \n",
       "4            9                          46                             1   \n",
       "\n",
       "  Total Runs  Runs in Last 5 Overs  Wickets in Last 5 Overs  Batting team AFG  \\\n",
       "0        282                   0.0                      0.0                 0   \n",
       "1        282                  23.0                      0.0                 0   \n",
       "2        282                  27.0                      0.0                 0   \n",
       "3        282                  25.0                      1.0                 0   \n",
       "4        282                  25.0                      1.0                 0   \n",
       "\n",
       "   Batting team AUS  Batting team BAN  Batting team ENG  ...  \\\n",
       "0                 0                 0                 1  ...   \n",
       "1                 0                 0                 1  ...   \n",
       "2                 0                 0                 1  ...   \n",
       "3                 0                 0                 1  ...   \n",
       "4                 0                 0                 1  ...   \n",
       "\n",
       "   Bowling team BAN  Bowling team ENG  Bowling team IND  Bowling team IRE  \\\n",
       "0                 0                 0                 0                 0   \n",
       "1                 0                 0                 0                 0   \n",
       "2                 0                 0                 0                 0   \n",
       "3                 0                 0                 0                 0   \n",
       "4                 0                 0                 0                 0   \n",
       "\n",
       "   Bowling team NED  Bowling team NZ  Bowling team PAK  Bowling team SA  \\\n",
       "0                 0                1                 0                0   \n",
       "1                 0                1                 0                0   \n",
       "2                 0                1                 0                0   \n",
       "3                 0                1                 0                0   \n",
       "4                 0                1                 0                0   \n",
       "\n",
       "   Bowling team SL  Bowling team WI  \n",
       "0                0                0  \n",
       "1                0                0  \n",
       "2                0                0  \n",
       "3                0                0  \n",
       "4                0                0  \n",
       "\n",
       "[5 rows x 30 columns]"
      ]
     },
     "execution_count": 147,
     "metadata": {},
     "output_type": "execute_result"
    }
   ],
   "source": [
    "df_encoded.head()"
   ]
  },
  {
   "cell_type": "markdown",
   "id": "7e882381",
   "metadata": {},
   "source": [
    "### Test Train Split"
   ]
  },
  {
   "cell_type": "code",
   "execution_count": 149,
   "id": "e872fdbc",
   "metadata": {},
   "outputs": [],
   "source": [
    "features = df_encoded.drop(['Total Runs'], axis=1)\n",
    "labels = df_encoded['Total Runs']"
   ]
  },
  {
   "cell_type": "code",
   "execution_count": 151,
   "id": "1355d8c7",
   "metadata": {},
   "outputs": [],
   "source": [
    "X_train, X_test, Y_train, Y_test = train_test_split(features, labels, test_size=0.20, shuffle=True)"
   ]
  },
  {
   "cell_type": "markdown",
   "id": "1f4fada4",
   "metadata": {},
   "source": [
    "## Model Training"
   ]
  },
  {
   "cell_type": "code",
   "execution_count": 217,
   "id": "ee80111b",
   "metadata": {},
   "outputs": [],
   "source": [
    "from sklearn.linear_model import LinearRegression\n",
    "from sklearn.metrics import mean_squared_error\n",
    "from sklearn.metrics import r2_score\n",
    "from sklearn.tree import DecisionTreeRegressor\n",
    "from sklearn.ensemble import RandomForestRegressor\n",
    "from sklearn.neighbors import KNeighborsRegressor"
   ]
  },
  {
   "cell_type": "markdown",
   "id": "de392bdd",
   "metadata": {},
   "source": [
    "### Linear Regression"
   ]
  },
  {
   "cell_type": "code",
   "execution_count": 158,
   "id": "4c144b6d",
   "metadata": {},
   "outputs": [
    {
     "data": {
      "text/html": [
       "<style>#sk-container-id-2 {color: black;}#sk-container-id-2 pre{padding: 0;}#sk-container-id-2 div.sk-toggleable {background-color: white;}#sk-container-id-2 label.sk-toggleable__label {cursor: pointer;display: block;width: 100%;margin-bottom: 0;padding: 0.3em;box-sizing: border-box;text-align: center;}#sk-container-id-2 label.sk-toggleable__label-arrow:before {content: \"▸\";float: left;margin-right: 0.25em;color: #696969;}#sk-container-id-2 label.sk-toggleable__label-arrow:hover:before {color: black;}#sk-container-id-2 div.sk-estimator:hover label.sk-toggleable__label-arrow:before {color: black;}#sk-container-id-2 div.sk-toggleable__content {max-height: 0;max-width: 0;overflow: hidden;text-align: left;background-color: #f0f8ff;}#sk-container-id-2 div.sk-toggleable__content pre {margin: 0.2em;color: black;border-radius: 0.25em;background-color: #f0f8ff;}#sk-container-id-2 input.sk-toggleable__control:checked~div.sk-toggleable__content {max-height: 200px;max-width: 100%;overflow: auto;}#sk-container-id-2 input.sk-toggleable__control:checked~label.sk-toggleable__label-arrow:before {content: \"▾\";}#sk-container-id-2 div.sk-estimator input.sk-toggleable__control:checked~label.sk-toggleable__label {background-color: #d4ebff;}#sk-container-id-2 div.sk-label input.sk-toggleable__control:checked~label.sk-toggleable__label {background-color: #d4ebff;}#sk-container-id-2 input.sk-hidden--visually {border: 0;clip: rect(1px 1px 1px 1px);clip: rect(1px, 1px, 1px, 1px);height: 1px;margin: -1px;overflow: hidden;padding: 0;position: absolute;width: 1px;}#sk-container-id-2 div.sk-estimator {font-family: monospace;background-color: #f0f8ff;border: 1px dotted black;border-radius: 0.25em;box-sizing: border-box;margin-bottom: 0.5em;}#sk-container-id-2 div.sk-estimator:hover {background-color: #d4ebff;}#sk-container-id-2 div.sk-parallel-item::after {content: \"\";width: 100%;border-bottom: 1px solid gray;flex-grow: 1;}#sk-container-id-2 div.sk-label:hover label.sk-toggleable__label {background-color: #d4ebff;}#sk-container-id-2 div.sk-serial::before {content: \"\";position: absolute;border-left: 1px solid gray;box-sizing: border-box;top: 0;bottom: 0;left: 50%;z-index: 0;}#sk-container-id-2 div.sk-serial {display: flex;flex-direction: column;align-items: center;background-color: white;padding-right: 0.2em;padding-left: 0.2em;position: relative;}#sk-container-id-2 div.sk-item {position: relative;z-index: 1;}#sk-container-id-2 div.sk-parallel {display: flex;align-items: stretch;justify-content: center;background-color: white;position: relative;}#sk-container-id-2 div.sk-item::before, #sk-container-id-2 div.sk-parallel-item::before {content: \"\";position: absolute;border-left: 1px solid gray;box-sizing: border-box;top: 0;bottom: 0;left: 50%;z-index: -1;}#sk-container-id-2 div.sk-parallel-item {display: flex;flex-direction: column;z-index: 1;position: relative;background-color: white;}#sk-container-id-2 div.sk-parallel-item:first-child::after {align-self: flex-end;width: 50%;}#sk-container-id-2 div.sk-parallel-item:last-child::after {align-self: flex-start;width: 50%;}#sk-container-id-2 div.sk-parallel-item:only-child::after {width: 0;}#sk-container-id-2 div.sk-dashed-wrapped {border: 1px dashed gray;margin: 0 0.4em 0.5em 0.4em;box-sizing: border-box;padding-bottom: 0.4em;background-color: white;}#sk-container-id-2 div.sk-label label {font-family: monospace;font-weight: bold;display: inline-block;line-height: 1.2em;}#sk-container-id-2 div.sk-label-container {text-align: center;}#sk-container-id-2 div.sk-container {/* jupyter's `normalize.less` sets `[hidden] { display: none; }` but bootstrap.min.css set `[hidden] { display: none !important; }` so we also need the `!important` here to be able to override the default hidden behavior on the sphinx rendered scikit-learn.org. See: https://github.com/scikit-learn/scikit-learn/issues/21755 */display: inline-block !important;position: relative;}#sk-container-id-2 div.sk-text-repr-fallback {display: none;}</style><div id=\"sk-container-id-2\" class=\"sk-top-container\"><div class=\"sk-text-repr-fallback\"><pre>LinearRegression()</pre><b>In a Jupyter environment, please rerun this cell to show the HTML representation or trust the notebook. <br />On GitHub, the HTML representation is unable to render, please try loading this page with nbviewer.org.</b></div><div class=\"sk-container\" hidden><div class=\"sk-item\"><div class=\"sk-estimator sk-toggleable\"><input class=\"sk-toggleable__control sk-hidden--visually\" id=\"sk-estimator-id-2\" type=\"checkbox\" checked><label for=\"sk-estimator-id-2\" class=\"sk-toggleable__label sk-toggleable__label-arrow\">LinearRegression</label><div class=\"sk-toggleable__content\"><pre>LinearRegression()</pre></div></div></div></div></div>"
      ],
      "text/plain": [
       "LinearRegression()"
      ]
     },
     "execution_count": 158,
     "metadata": {},
     "output_type": "execute_result"
    }
   ],
   "source": [
    "regressor = LinearRegression()\n",
    "regressor.fit(X_train, Y_train)"
   ]
  },
  {
   "cell_type": "code",
   "execution_count": 159,
   "id": "7df3b04a",
   "metadata": {},
   "outputs": [
    {
     "name": "stdout",
     "output_type": "stream",
     "text": [
      "Training MSE: 2441.7458776658395\n",
      "Testing MSE: 2503.4153996174437\n"
     ]
    }
   ],
   "source": [
    "train_predictions_LR = regressor.predict(X_train)\n",
    "\n",
    "test_predictions_LR = regressor.predict(X_test)\n",
    "\n",
    "train_mse_LR = mean_squared_error(Y_train, train_predictions_LR)\n",
    "test_mse_LR = mean_squared_error(Y_test, test_predictions_LR)\n",
    "\n",
    "print(f'Training MSE: {train_mse_LR}')\n",
    "print(f'Testing MSE: {test_mse_LR}')"
   ]
  },
  {
   "cell_type": "code",
   "execution_count": 161,
   "id": "0ae6ca9a",
   "metadata": {},
   "outputs": [
    {
     "name": "stdout",
     "output_type": "stream",
     "text": [
      "Training R²: 0.5047035929550343\n",
      "Testing R²: 0.49933583571289\n"
     ]
    }
   ],
   "source": [
    "train_r2 = r2_score(Y_train, train_predictions)\n",
    "test_r2 = r2_score(Y_test, test_predictions)\n",
    "\n",
    "print(f'Training R²: {train_r2}')\n",
    "print(f'Testing R²: {test_r2}')"
   ]
  },
  {
   "cell_type": "markdown",
   "id": "7cbf6472",
   "metadata": {},
   "source": [
    "### Decision Tree"
   ]
  },
  {
   "cell_type": "code",
   "execution_count": 167,
   "id": "5035ce5e",
   "metadata": {},
   "outputs": [
    {
     "data": {
      "text/html": [
       "<style>#sk-container-id-4 {color: black;}#sk-container-id-4 pre{padding: 0;}#sk-container-id-4 div.sk-toggleable {background-color: white;}#sk-container-id-4 label.sk-toggleable__label {cursor: pointer;display: block;width: 100%;margin-bottom: 0;padding: 0.3em;box-sizing: border-box;text-align: center;}#sk-container-id-4 label.sk-toggleable__label-arrow:before {content: \"▸\";float: left;margin-right: 0.25em;color: #696969;}#sk-container-id-4 label.sk-toggleable__label-arrow:hover:before {color: black;}#sk-container-id-4 div.sk-estimator:hover label.sk-toggleable__label-arrow:before {color: black;}#sk-container-id-4 div.sk-toggleable__content {max-height: 0;max-width: 0;overflow: hidden;text-align: left;background-color: #f0f8ff;}#sk-container-id-4 div.sk-toggleable__content pre {margin: 0.2em;color: black;border-radius: 0.25em;background-color: #f0f8ff;}#sk-container-id-4 input.sk-toggleable__control:checked~div.sk-toggleable__content {max-height: 200px;max-width: 100%;overflow: auto;}#sk-container-id-4 input.sk-toggleable__control:checked~label.sk-toggleable__label-arrow:before {content: \"▾\";}#sk-container-id-4 div.sk-estimator input.sk-toggleable__control:checked~label.sk-toggleable__label {background-color: #d4ebff;}#sk-container-id-4 div.sk-label input.sk-toggleable__control:checked~label.sk-toggleable__label {background-color: #d4ebff;}#sk-container-id-4 input.sk-hidden--visually {border: 0;clip: rect(1px 1px 1px 1px);clip: rect(1px, 1px, 1px, 1px);height: 1px;margin: -1px;overflow: hidden;padding: 0;position: absolute;width: 1px;}#sk-container-id-4 div.sk-estimator {font-family: monospace;background-color: #f0f8ff;border: 1px dotted black;border-radius: 0.25em;box-sizing: border-box;margin-bottom: 0.5em;}#sk-container-id-4 div.sk-estimator:hover {background-color: #d4ebff;}#sk-container-id-4 div.sk-parallel-item::after {content: \"\";width: 100%;border-bottom: 1px solid gray;flex-grow: 1;}#sk-container-id-4 div.sk-label:hover label.sk-toggleable__label {background-color: #d4ebff;}#sk-container-id-4 div.sk-serial::before {content: \"\";position: absolute;border-left: 1px solid gray;box-sizing: border-box;top: 0;bottom: 0;left: 50%;z-index: 0;}#sk-container-id-4 div.sk-serial {display: flex;flex-direction: column;align-items: center;background-color: white;padding-right: 0.2em;padding-left: 0.2em;position: relative;}#sk-container-id-4 div.sk-item {position: relative;z-index: 1;}#sk-container-id-4 div.sk-parallel {display: flex;align-items: stretch;justify-content: center;background-color: white;position: relative;}#sk-container-id-4 div.sk-item::before, #sk-container-id-4 div.sk-parallel-item::before {content: \"\";position: absolute;border-left: 1px solid gray;box-sizing: border-box;top: 0;bottom: 0;left: 50%;z-index: -1;}#sk-container-id-4 div.sk-parallel-item {display: flex;flex-direction: column;z-index: 1;position: relative;background-color: white;}#sk-container-id-4 div.sk-parallel-item:first-child::after {align-self: flex-end;width: 50%;}#sk-container-id-4 div.sk-parallel-item:last-child::after {align-self: flex-start;width: 50%;}#sk-container-id-4 div.sk-parallel-item:only-child::after {width: 0;}#sk-container-id-4 div.sk-dashed-wrapped {border: 1px dashed gray;margin: 0 0.4em 0.5em 0.4em;box-sizing: border-box;padding-bottom: 0.4em;background-color: white;}#sk-container-id-4 div.sk-label label {font-family: monospace;font-weight: bold;display: inline-block;line-height: 1.2em;}#sk-container-id-4 div.sk-label-container {text-align: center;}#sk-container-id-4 div.sk-container {/* jupyter's `normalize.less` sets `[hidden] { display: none; }` but bootstrap.min.css set `[hidden] { display: none !important; }` so we also need the `!important` here to be able to override the default hidden behavior on the sphinx rendered scikit-learn.org. See: https://github.com/scikit-learn/scikit-learn/issues/21755 */display: inline-block !important;position: relative;}#sk-container-id-4 div.sk-text-repr-fallback {display: none;}</style><div id=\"sk-container-id-4\" class=\"sk-top-container\"><div class=\"sk-text-repr-fallback\"><pre>DecisionTreeRegressor(max_depth=5)</pre><b>In a Jupyter environment, please rerun this cell to show the HTML representation or trust the notebook. <br />On GitHub, the HTML representation is unable to render, please try loading this page with nbviewer.org.</b></div><div class=\"sk-container\" hidden><div class=\"sk-item\"><div class=\"sk-estimator sk-toggleable\"><input class=\"sk-toggleable__control sk-hidden--visually\" id=\"sk-estimator-id-4\" type=\"checkbox\" checked><label for=\"sk-estimator-id-4\" class=\"sk-toggleable__label sk-toggleable__label-arrow\">DecisionTreeRegressor</label><div class=\"sk-toggleable__content\"><pre>DecisionTreeRegressor(max_depth=5)</pre></div></div></div></div></div>"
      ],
      "text/plain": [
       "DecisionTreeRegressor(max_depth=5)"
      ]
     },
     "execution_count": 167,
     "metadata": {},
     "output_type": "execute_result"
    }
   ],
   "source": [
    "tree = DecisionTreeRegressor(max_depth=5)\n",
    "tree.fit(X_train, Y_train)"
   ]
  },
  {
   "cell_type": "code",
   "execution_count": 168,
   "id": "c133cbe7",
   "metadata": {},
   "outputs": [
    {
     "name": "stdout",
     "output_type": "stream",
     "text": [
      "Training MSE: 2729.2726481097734\n",
      "Testing MSE: 2896.581851354548\n"
     ]
    }
   ],
   "source": [
    "train_predictions_tree = tree.predict(X_train)\n",
    "\n",
    "test_predictions_tree = tree.predict(X_test)\n",
    "\n",
    "train_mse_tree = mean_squared_error(Y_train, train_predictions_tree)\n",
    "test_mse_tree = mean_squared_error(Y_test, test_predictions_tree)\n",
    "\n",
    "print(f'Training MSE: {train_mse_tree}')\n",
    "print(f'Testing MSE: {test_mse_tree}')"
   ]
  },
  {
   "cell_type": "code",
   "execution_count": 169,
   "id": "25433fff",
   "metadata": {},
   "outputs": [
    {
     "name": "stdout",
     "output_type": "stream",
     "text": [
      "Training R²: 0.44638017050852663\n",
      "Testing R²: 0.42070551610441986\n"
     ]
    }
   ],
   "source": [
    "train_r2 = r2_score(Y_train, train_predictions_tree)\n",
    "test_r2 = r2_score(Y_test, test_predictions_tree)\n",
    "\n",
    "print(f'Training R²: {train_r2}')\n",
    "print(f'Testing R²: {test_r2}')"
   ]
  },
  {
   "cell_type": "markdown",
   "id": "1aed199a",
   "metadata": {},
   "source": [
    "### Random Forest"
   ]
  },
  {
   "cell_type": "code",
   "execution_count": 208,
   "id": "b9c7767a",
   "metadata": {},
   "outputs": [
    {
     "data": {
      "text/html": [
       "<style>#sk-container-id-17 {color: black;}#sk-container-id-17 pre{padding: 0;}#sk-container-id-17 div.sk-toggleable {background-color: white;}#sk-container-id-17 label.sk-toggleable__label {cursor: pointer;display: block;width: 100%;margin-bottom: 0;padding: 0.3em;box-sizing: border-box;text-align: center;}#sk-container-id-17 label.sk-toggleable__label-arrow:before {content: \"▸\";float: left;margin-right: 0.25em;color: #696969;}#sk-container-id-17 label.sk-toggleable__label-arrow:hover:before {color: black;}#sk-container-id-17 div.sk-estimator:hover label.sk-toggleable__label-arrow:before {color: black;}#sk-container-id-17 div.sk-toggleable__content {max-height: 0;max-width: 0;overflow: hidden;text-align: left;background-color: #f0f8ff;}#sk-container-id-17 div.sk-toggleable__content pre {margin: 0.2em;color: black;border-radius: 0.25em;background-color: #f0f8ff;}#sk-container-id-17 input.sk-toggleable__control:checked~div.sk-toggleable__content {max-height: 200px;max-width: 100%;overflow: auto;}#sk-container-id-17 input.sk-toggleable__control:checked~label.sk-toggleable__label-arrow:before {content: \"▾\";}#sk-container-id-17 div.sk-estimator input.sk-toggleable__control:checked~label.sk-toggleable__label {background-color: #d4ebff;}#sk-container-id-17 div.sk-label input.sk-toggleable__control:checked~label.sk-toggleable__label {background-color: #d4ebff;}#sk-container-id-17 input.sk-hidden--visually {border: 0;clip: rect(1px 1px 1px 1px);clip: rect(1px, 1px, 1px, 1px);height: 1px;margin: -1px;overflow: hidden;padding: 0;position: absolute;width: 1px;}#sk-container-id-17 div.sk-estimator {font-family: monospace;background-color: #f0f8ff;border: 1px dotted black;border-radius: 0.25em;box-sizing: border-box;margin-bottom: 0.5em;}#sk-container-id-17 div.sk-estimator:hover {background-color: #d4ebff;}#sk-container-id-17 div.sk-parallel-item::after {content: \"\";width: 100%;border-bottom: 1px solid gray;flex-grow: 1;}#sk-container-id-17 div.sk-label:hover label.sk-toggleable__label {background-color: #d4ebff;}#sk-container-id-17 div.sk-serial::before {content: \"\";position: absolute;border-left: 1px solid gray;box-sizing: border-box;top: 0;bottom: 0;left: 50%;z-index: 0;}#sk-container-id-17 div.sk-serial {display: flex;flex-direction: column;align-items: center;background-color: white;padding-right: 0.2em;padding-left: 0.2em;position: relative;}#sk-container-id-17 div.sk-item {position: relative;z-index: 1;}#sk-container-id-17 div.sk-parallel {display: flex;align-items: stretch;justify-content: center;background-color: white;position: relative;}#sk-container-id-17 div.sk-item::before, #sk-container-id-17 div.sk-parallel-item::before {content: \"\";position: absolute;border-left: 1px solid gray;box-sizing: border-box;top: 0;bottom: 0;left: 50%;z-index: -1;}#sk-container-id-17 div.sk-parallel-item {display: flex;flex-direction: column;z-index: 1;position: relative;background-color: white;}#sk-container-id-17 div.sk-parallel-item:first-child::after {align-self: flex-end;width: 50%;}#sk-container-id-17 div.sk-parallel-item:last-child::after {align-self: flex-start;width: 50%;}#sk-container-id-17 div.sk-parallel-item:only-child::after {width: 0;}#sk-container-id-17 div.sk-dashed-wrapped {border: 1px dashed gray;margin: 0 0.4em 0.5em 0.4em;box-sizing: border-box;padding-bottom: 0.4em;background-color: white;}#sk-container-id-17 div.sk-label label {font-family: monospace;font-weight: bold;display: inline-block;line-height: 1.2em;}#sk-container-id-17 div.sk-label-container {text-align: center;}#sk-container-id-17 div.sk-container {/* jupyter's `normalize.less` sets `[hidden] { display: none; }` but bootstrap.min.css set `[hidden] { display: none !important; }` so we also need the `!important` here to be able to override the default hidden behavior on the sphinx rendered scikit-learn.org. See: https://github.com/scikit-learn/scikit-learn/issues/21755 */display: inline-block !important;position: relative;}#sk-container-id-17 div.sk-text-repr-fallback {display: none;}</style><div id=\"sk-container-id-17\" class=\"sk-top-container\"><div class=\"sk-text-repr-fallback\"><pre>RandomForestRegressor(max_depth=35)</pre><b>In a Jupyter environment, please rerun this cell to show the HTML representation or trust the notebook. <br />On GitHub, the HTML representation is unable to render, please try loading this page with nbviewer.org.</b></div><div class=\"sk-container\" hidden><div class=\"sk-item\"><div class=\"sk-estimator sk-toggleable\"><input class=\"sk-toggleable__control sk-hidden--visually\" id=\"sk-estimator-id-17\" type=\"checkbox\" checked><label for=\"sk-estimator-id-17\" class=\"sk-toggleable__label sk-toggleable__label-arrow\">RandomForestRegressor</label><div class=\"sk-toggleable__content\"><pre>RandomForestRegressor(max_depth=35)</pre></div></div></div></div></div>"
      ],
      "text/plain": [
       "RandomForestRegressor(max_depth=35)"
      ]
     },
     "execution_count": 208,
     "metadata": {},
     "output_type": "execute_result"
    }
   ],
   "source": [
    "forest = RandomForestRegressor(max_depth=35)\n",
    "forest.fit(X_train, Y_train)"
   ]
  },
  {
   "cell_type": "code",
   "execution_count": 209,
   "id": "5325b592",
   "metadata": {},
   "outputs": [
    {
     "name": "stdout",
     "output_type": "stream",
     "text": [
      "Training MSE: 174.20305491087032\n",
      "Testing MSE: 1304.4934202303273\n"
     ]
    }
   ],
   "source": [
    "train_predictions_forest = forest.predict(X_train)\n",
    "\n",
    "test_predictions_forest = forest.predict(X_test)\n",
    "\n",
    "train_mse_forest = mean_squared_error(Y_train, train_predictions_forest)\n",
    "test_mse_forest = mean_squared_error(Y_test, test_predictions_forest)\n",
    "\n",
    "print(f'Training MSE: {train_mse_forest}')\n",
    "print(f'Testing MSE: {test_mse_forest}')"
   ]
  },
  {
   "cell_type": "code",
   "execution_count": 210,
   "id": "7844bfe8",
   "metadata": {},
   "outputs": [
    {
     "name": "stdout",
     "output_type": "stream",
     "text": [
      "Training R²: 0.9646637481882057\n",
      "Testing R²: 0.7391111726174349\n"
     ]
    }
   ],
   "source": [
    "train_r2 = r2_score(Y_train, train_predictions_forest)\n",
    "test_r2 = r2_score(Y_test, test_predictions_forest)\n",
    "\n",
    "print(f'Training R²: {train_r2}')\n",
    "print(f'Testing R²: {test_r2}')"
   ]
  },
  {
   "cell_type": "markdown",
   "id": "094199f5",
   "metadata": {},
   "source": [
    "### Comparing performance of Random Forest for different max_depths"
   ]
  },
  {
   "cell_type": "code",
   "execution_count": 212,
   "id": "e33cb936",
   "metadata": {},
   "outputs": [
    {
     "data": {
      "image/png": "[encoded data removed]",
      "text/plain": [
       "<Figure size 1200x600 with 2 Axes>"
      ]
     },
     "metadata": {},
     "output_type": "display_data"
    }
   ],
   "source": [
    "import matplotlib.pyplot as plt\n",
    "import numpy as np\n",
    "from sklearn.ensemble import RandomForestRegressor\n",
    "from sklearn.metrics import mean_squared_error, r2_score\n",
    "\n",
    "max_depth_values = [5, 10, 15, 20, 25, 30, 35, 40, 50]\n",
    "\n",
    "train_mse_values = []\n",
    "test_mse_values = []\n",
    "train_r2_values = []\n",
    "test_r2_values = []\n",
    "\n",
    "for max_depth in max_depth_values:\n",
    "    forest = RandomForestRegressor(max_depth=max_depth)\n",
    "    forest.fit(X_train, Y_train)\n",
    "\n",
    "    train_predictions_forest = forest.predict(X_train)\n",
    "\n",
    "    test_predictions_forest = forest.predict(X_test)\n",
    "\n",
    "    train_mse = mean_squared_error(Y_train, train_predictions_forest)\n",
    "    test_mse = mean_squared_error(Y_test, test_predictions_forest)\n",
    "\n",
    "    train_r2 = r2_score(Y_train, train_predictions_forest)\n",
    "    test_r2 = r2_score(Y_test, test_predictions_forest)\n",
    "\n",
    "    train_mse_values.append(train_mse)\n",
    "    test_mse_values.append(test_mse)\n",
    "    train_r2_values.append(train_r2)\n",
    "    test_r2_values.append(test_r2)\n",
    "\n",
    "plt.figure(figsize=(12, 6))\n",
    "\n",
    "plt.subplot(1, 2, 1)\n",
    "plt.plot(max_depth_values, train_mse_values, label='Training MSE', marker='o')\n",
    "plt.plot(max_depth_values, test_mse_values, label='Testing MSE', marker='o')\n",
    "plt.title('Mean Squared Error vs. max_depth')\n",
    "plt.xlabel('max_depth')\n",
    "plt.ylabel('Mean Squared Error')\n",
    "plt.legend()\n",
    "\n",
    "plt.subplot(1, 2, 2)\n",
    "plt.plot(max_depth_values, train_r2_values, label='Training R²', marker='o')\n",
    "plt.plot(max_depth_values, test_r2_values, label='Testing R²', marker='o')\n",
    "plt.title('R-squared vs. max_depth')\n",
    "plt.xlabel('max_depth')\n",
    "plt.ylabel('R-squared')\n",
    "plt.legend()\n",
    "\n",
    "plt.tight_layout()\n",
    "plt.show()\n"
   ]
  },
  {
   "cell_type": "code",
   "execution_count": 214,
   "id": "1d3380b1",
   "metadata": {},
   "outputs": [
    {
     "data": {
      "text/html": [
       "<style>#sk-container-id-18 {color: black;}#sk-container-id-18 pre{padding: 0;}#sk-container-id-18 div.sk-toggleable {background-color: white;}#sk-container-id-18 label.sk-toggleable__label {cursor: pointer;display: block;width: 100%;margin-bottom: 0;padding: 0.3em;box-sizing: border-box;text-align: center;}#sk-container-id-18 label.sk-toggleable__label-arrow:before {content: \"▸\";float: left;margin-right: 0.25em;color: #696969;}#sk-container-id-18 label.sk-toggleable__label-arrow:hover:before {color: black;}#sk-container-id-18 div.sk-estimator:hover label.sk-toggleable__label-arrow:before {color: black;}#sk-container-id-18 div.sk-toggleable__content {max-height: 0;max-width: 0;overflow: hidden;text-align: left;background-color: #f0f8ff;}#sk-container-id-18 div.sk-toggleable__content pre {margin: 0.2em;color: black;border-radius: 0.25em;background-color: #f0f8ff;}#sk-container-id-18 input.sk-toggleable__control:checked~div.sk-toggleable__content {max-height: 200px;max-width: 100%;overflow: auto;}#sk-container-id-18 input.sk-toggleable__control:checked~label.sk-toggleable__label-arrow:before {content: \"▾\";}#sk-container-id-18 div.sk-estimator input.sk-toggleable__control:checked~label.sk-toggleable__label {background-color: #d4ebff;}#sk-container-id-18 div.sk-label input.sk-toggleable__control:checked~label.sk-toggleable__label {background-color: #d4ebff;}#sk-container-id-18 input.sk-hidden--visually {border: 0;clip: rect(1px 1px 1px 1px);clip: rect(1px, 1px, 1px, 1px);height: 1px;margin: -1px;overflow: hidden;padding: 0;position: absolute;width: 1px;}#sk-container-id-18 div.sk-estimator {font-family: monospace;background-color: #f0f8ff;border: 1px dotted black;border-radius: 0.25em;box-sizing: border-box;margin-bottom: 0.5em;}#sk-container-id-18 div.sk-estimator:hover {background-color: #d4ebff;}#sk-container-id-18 div.sk-parallel-item::after {content: \"\";width: 100%;border-bottom: 1px solid gray;flex-grow: 1;}#sk-container-id-18 div.sk-label:hover label.sk-toggleable__label {background-color: #d4ebff;}#sk-container-id-18 div.sk-serial::before {content: \"\";position: absolute;border-left: 1px solid gray;box-sizing: border-box;top: 0;bottom: 0;left: 50%;z-index: 0;}#sk-container-id-18 div.sk-serial {display: flex;flex-direction: column;align-items: center;background-color: white;padding-right: 0.2em;padding-left: 0.2em;position: relative;}#sk-container-id-18 div.sk-item {position: relative;z-index: 1;}#sk-container-id-18 div.sk-parallel {display: flex;align-items: stretch;justify-content: center;background-color: white;position: relative;}#sk-container-id-18 div.sk-item::before, #sk-container-id-18 div.sk-parallel-item::before {content: \"\";position: absolute;border-left: 1px solid gray;box-sizing: border-box;top: 0;bottom: 0;left: 50%;z-index: -1;}#sk-container-id-18 div.sk-parallel-item {display: flex;flex-direction: column;z-index: 1;position: relative;background-color: white;}#sk-container-id-18 div.sk-parallel-item:first-child::after {align-self: flex-end;width: 50%;}#sk-container-id-18 div.sk-parallel-item:last-child::after {align-self: flex-start;width: 50%;}#sk-container-id-18 div.sk-parallel-item:only-child::after {width: 0;}#sk-container-id-18 div.sk-dashed-wrapped {border: 1px dashed gray;margin: 0 0.4em 0.5em 0.4em;box-sizing: border-box;padding-bottom: 0.4em;background-color: white;}#sk-container-id-18 div.sk-label label {font-family: monospace;font-weight: bold;display: inline-block;line-height: 1.2em;}#sk-container-id-18 div.sk-label-container {text-align: center;}#sk-container-id-18 div.sk-container {/* jupyter's `normalize.less` sets `[hidden] { display: none; }` but bootstrap.min.css set `[hidden] { display: none !important; }` so we also need the `!important` here to be able to override the default hidden behavior on the sphinx rendered scikit-learn.org. See: https://github.com/scikit-learn/scikit-learn/issues/21755 */display: inline-block !important;position: relative;}#sk-container-id-18 div.sk-text-repr-fallback {display: none;}</style><div id=\"sk-container-id-18\" class=\"sk-top-container\"><div class=\"sk-text-repr-fallback\"><pre>RandomForestRegressor(max_depth=36)</pre><b>In a Jupyter environment, please rerun this cell to show the HTML representation or trust the notebook. <br />On GitHub, the HTML representation is unable to render, please try loading this page with nbviewer.org.</b></div><div class=\"sk-container\" hidden><div class=\"sk-item\"><div class=\"sk-estimator sk-toggleable\"><input class=\"sk-toggleable__control sk-hidden--visually\" id=\"sk-estimator-id-18\" type=\"checkbox\" checked><label for=\"sk-estimator-id-18\" class=\"sk-toggleable__label sk-toggleable__label-arrow\">RandomForestRegressor</label><div class=\"sk-toggleable__content\"><pre>RandomForestRegressor(max_depth=36)</pre></div></div></div></div></div>"
      ],
      "text/plain": [
       "RandomForestRegressor(max_depth=36)"
      ]
     },
     "execution_count": 214,
     "metadata": {},
     "output_type": "execute_result"
    }
   ],
   "source": [
    "forest = RandomForestRegressor(max_depth=36)\n",
    "forest.fit(X_train, Y_train)"
   ]
  },
  {
   "cell_type": "code",
   "execution_count": 215,
   "id": "4768be7e",
   "metadata": {},
   "outputs": [
    {
     "name": "stdout",
     "output_type": "stream",
     "text": [
      "Training MSE: 173.00367870950348\n",
      "Testing MSE: 1300.8848786424087\n"
     ]
    }
   ],
   "source": [
    "train_predictions_forest = forest.predict(X_train)\n",
    "\n",
    "test_predictions_forest = forest.predict(X_test)\n",
    "\n",
    "train_mse_forest = mean_squared_error(Y_train, train_predictions_forest)\n",
    "test_mse_forest = mean_squared_error(Y_test, test_predictions_forest)\n",
    "\n",
    "print(f'Training MSE: {train_mse_forest}')\n",
    "print(f'Testing MSE: {test_mse_forest}')"
   ]
  },
  {
   "cell_type": "code",
   "execution_count": 216,
   "id": "c19585fd",
   "metadata": {},
   "outputs": [
    {
     "name": "stdout",
     "output_type": "stream",
     "text": [
      "Training R²: 0.9649070358819275\n",
      "Testing R²: 0.7398328536691239\n"
     ]
    }
   ],
   "source": [
    "train_r2 = r2_score(Y_train, train_predictions_forest)\n",
    "test_r2 = r2_score(Y_test, test_predictions_forest)\n",
    "\n",
    "print(f'Training R²: {train_r2}')\n",
    "print(f'Testing R²: {test_r2}')"
   ]
  },
  {
   "cell_type": "markdown",
   "id": "1f34161e",
   "metadata": {},
   "source": [
    "### K Neighbour Regressor"
   ]
  },
  {
   "cell_type": "code",
   "execution_count": 218,
   "id": "9487f9e0",
   "metadata": {},
   "outputs": [
    {
     "data": {
      "text/html": [
       "<style>#sk-container-id-19 {color: black;}#sk-container-id-19 pre{padding: 0;}#sk-container-id-19 div.sk-toggleable {background-color: white;}#sk-container-id-19 label.sk-toggleable__label {cursor: pointer;display: block;width: 100%;margin-bottom: 0;padding: 0.3em;box-sizing: border-box;text-align: center;}#sk-container-id-19 label.sk-toggleable__label-arrow:before {content: \"▸\";float: left;margin-right: 0.25em;color: #696969;}#sk-container-id-19 label.sk-toggleable__label-arrow:hover:before {color: black;}#sk-container-id-19 div.sk-estimator:hover label.sk-toggleable__label-arrow:before {color: black;}#sk-container-id-19 div.sk-toggleable__content {max-height: 0;max-width: 0;overflow: hidden;text-align: left;background-color: #f0f8ff;}#sk-container-id-19 div.sk-toggleable__content pre {margin: 0.2em;color: black;border-radius: 0.25em;background-color: #f0f8ff;}#sk-container-id-19 input.sk-toggleable__control:checked~div.sk-toggleable__content {max-height: 200px;max-width: 100%;overflow: auto;}#sk-container-id-19 input.sk-toggleable__control:checked~label.sk-toggleable__label-arrow:before {content: \"▾\";}#sk-container-id-19 div.sk-estimator input.sk-toggleable__control:checked~label.sk-toggleable__label {background-color: #d4ebff;}#sk-container-id-19 div.sk-label input.sk-toggleable__control:checked~label.sk-toggleable__label {background-color: #d4ebff;}#sk-container-id-19 input.sk-hidden--visually {border: 0;clip: rect(1px 1px 1px 1px);clip: rect(1px, 1px, 1px, 1px);height: 1px;margin: -1px;overflow: hidden;padding: 0;position: absolute;width: 1px;}#sk-container-id-19 div.sk-estimator {font-family: monospace;background-color: #f0f8ff;border: 1px dotted black;border-radius: 0.25em;box-sizing: border-box;margin-bottom: 0.5em;}#sk-container-id-19 div.sk-estimator:hover {background-color: #d4ebff;}#sk-container-id-19 div.sk-parallel-item::after {content: \"\";width: 100%;border-bottom: 1px solid gray;flex-grow: 1;}#sk-container-id-19 div.sk-label:hover label.sk-toggleable__label {background-color: #d4ebff;}#sk-container-id-19 div.sk-serial::before {content: \"\";position: absolute;border-left: 1px solid gray;box-sizing: border-box;top: 0;bottom: 0;left: 50%;z-index: 0;}#sk-container-id-19 div.sk-serial {display: flex;flex-direction: column;align-items: center;background-color: white;padding-right: 0.2em;padding-left: 0.2em;position: relative;}#sk-container-id-19 div.sk-item {position: relative;z-index: 1;}#sk-container-id-19 div.sk-parallel {display: flex;align-items: stretch;justify-content: center;background-color: white;position: relative;}#sk-container-id-19 div.sk-item::before, #sk-container-id-19 div.sk-parallel-item::before {content: \"\";position: absolute;border-left: 1px solid gray;box-sizing: border-box;top: 0;bottom: 0;left: 50%;z-index: -1;}#sk-container-id-19 div.sk-parallel-item {display: flex;flex-direction: column;z-index: 1;position: relative;background-color: white;}#sk-container-id-19 div.sk-parallel-item:first-child::after {align-self: flex-end;width: 50%;}#sk-container-id-19 div.sk-parallel-item:last-child::after {align-self: flex-start;width: 50%;}#sk-container-id-19 div.sk-parallel-item:only-child::after {width: 0;}#sk-container-id-19 div.sk-dashed-wrapped {border: 1px dashed gray;margin: 0 0.4em 0.5em 0.4em;box-sizing: border-box;padding-bottom: 0.4em;background-color: white;}#sk-container-id-19 div.sk-label label {font-family: monospace;font-weight: bold;display: inline-block;line-height: 1.2em;}#sk-container-id-19 div.sk-label-container {text-align: center;}#sk-container-id-19 div.sk-container {/* jupyter's `normalize.less` sets `[hidden] { display: none; }` but bootstrap.min.css set `[hidden] { display: none !important; }` so we also need the `!important` here to be able to override the default hidden behavior on the sphinx rendered scikit-learn.org. See: https://github.com/scikit-learn/scikit-learn/issues/21755 */display: inline-block !important;position: relative;}#sk-container-id-19 div.sk-text-repr-fallback {display: none;}</style><div id=\"sk-container-id-19\" class=\"sk-top-container\"><div class=\"sk-text-repr-fallback\"><pre>KNeighborsRegressor()</pre><b>In a Jupyter environment, please rerun this cell to show the HTML representation or trust the notebook. <br />On GitHub, the HTML representation is unable to render, please try loading this page with nbviewer.org.</b></div><div class=\"sk-container\" hidden><div class=\"sk-item\"><div class=\"sk-estimator sk-toggleable\"><input class=\"sk-toggleable__control sk-hidden--visually\" id=\"sk-estimator-id-19\" type=\"checkbox\" checked><label for=\"sk-estimator-id-19\" class=\"sk-toggleable__label sk-toggleable__label-arrow\">KNeighborsRegressor</label><div class=\"sk-toggleable__content\"><pre>KNeighborsRegressor()</pre></div></div></div></div></div>"
      ],
      "text/plain": [
       "KNeighborsRegressor()"
      ]
     },
     "execution_count": 218,
     "metadata": {},
     "output_type": "execute_result"
    }
   ],
   "source": [
    "knr = KNeighborsRegressor()\n",
    "knr.fit(X_train, Y_train)"
   ]
  },
  {
   "cell_type": "code",
   "execution_count": 219,
   "id": "9df147d5",
   "metadata": {},
   "outputs": [
    {
     "name": "stdout",
     "output_type": "stream",
     "text": [
      "Training MSE: 1893.0635751586728\n",
      "Testing MSE: 2812.556876606684\n"
     ]
    }
   ],
   "source": [
    "train_predictions_knr = knr.predict(X_train)\n",
    "\n",
    "test_predictions_knr = knr.predict(X_test)\n",
    "\n",
    "train_mse_knr = mean_squared_error(Y_train, train_predictions_knr)\n",
    "test_mse_knr = mean_squared_error(Y_test, test_predictions_knr)\n",
    "\n",
    "print(f'Training MSE: {train_mse_knr}')\n",
    "print(f'Testing MSE: {test_mse_knr}')"
   ]
  },
  {
   "cell_type": "code",
   "execution_count": 220,
   "id": "ce31b00b",
   "metadata": {},
   "outputs": [
    {
     "name": "stdout",
     "output_type": "stream",
     "text": [
      "Training R²: 0.616001158982153\n",
      "Testing R²: 0.4375098761670021\n"
     ]
    }
   ],
   "source": [
    "train_r2 = r2_score(Y_train, train_predictions_knr)\n",
    "test_r2 = r2_score(Y_test, test_predictions_knr)\n",
    "\n",
    "print(f'Training R²: {train_r2}')\n",
    "print(f'Testing R²: {test_r2}')"
   ]
  },
  {
   "cell_type": "code",
   "execution_count": null,
   "id": "76fb0ef5",
   "metadata": {},
   "outputs": [],
   "source": []
  }
 ],
 "metadata": {
  "kernelspec": {
   "display_name": "Python 3 (ipykernel)",
   "language": "python",
   "name": "python3"
  },
  "language_info": {
   "codemirror_mode": {
    "name": "ipython",
    "version": 3
   },
   "file_extension": ".py",
   "mimetype": "text/x-python",
   "name": "python",
   "nbconvert_exporter": "python",
   "pygments_lexer": "ipython3",
   "version": "3.11.4"
  }
 },
 "nbformat": 4,
 "nbformat_minor": 5
}
