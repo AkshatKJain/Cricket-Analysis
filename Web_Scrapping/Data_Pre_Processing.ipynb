{
 "cells": [
  {
   "cell_type": "code",
   "execution_count": null,
   "id": "3b27edf7",
   "metadata": {},
   "outputs": [],
   "source": [
    "import pandas as pd\n",
    "import numpy as np"
   ]
  },
  {
   "cell_type": "code",
   "execution_count": null,
   "id": "62f802ff",
   "metadata": {},
   "outputs": [],
   "source": [
    "df = pd.read_csv('df2.csv')"
   ]
  },
  {
   "cell_type": "code",
   "execution_count": null,
   "id": "5373d829",
   "metadata": {},
   "outputs": [],
   "source": [
    "df.drop(['Unnamed: 0', \"Unnamed: 0.2\", 'Unnamed: 0.1'], axis = 1, inplace = True)"
   ]
  },
  {
   "cell_type": "code",
   "execution_count": null,
   "id": "85c2d148",
   "metadata": {},
   "outputs": [],
   "source": [
    "df.replace('', pd.NA, inplace=True)\n",
    "df = df.dropna(subset=['Over Number', 'Runs Scored in over', 'Runs Scored till that over'], how='any')"
   ]
  },
  {
   "cell_type": "code",
   "execution_count": null,
   "id": "1be14439",
   "metadata": {},
   "outputs": [],
   "source": [
    "df.info()"
   ]
  },
  {
   "cell_type": "code",
   "execution_count": null,
   "id": "cd744ca5",
   "metadata": {},
   "outputs": [],
   "source": [
    "df['Match Number'] = df['Match Detail'].str.split(',').str[0]\n",
    "df['City'] = df['Match Detail'].str.split(',').str[1]\n",
    "df['Date'] = df['Match Detail'].str.split(',').str[-3] + df['Match Detail'].str.split(',').str[-2]\n",
    "df['Date'] = df['Date'].str.strip()\n",
    "df['Winner'] = df['Winning Details'].str.split('won').str[0]"
   ]
  },
  {
   "cell_type": "code",
   "execution_count": null,
   "id": "4b256247",
   "metadata": {},
   "outputs": [],
   "source": [
    "df['Runs Scored in over'] = df['Runs Scored in over'].str.replace('(', '')\n",
    "df['Runs Scored in over'] = df['Runs Scored in over'].str.replace(')', '')\n",
    "df['Wicket Taken in over'] = df['Runs Scored in over'].str.split(',').str[1]\n",
    "df['Wicket Taken in over'] = df['Wicket Taken in over'].str.strip()\n",
    "df['Wicket Taken in over'] = df['Wicket Taken in over'].str.split(' ').str[0]\n",
    "df['Runs Scored in over'] = df['Runs Scored in over'].str.split(',').str[0].str.split(' ').str[0]"
   ]
  },
  {
   "cell_type": "code",
   "execution_count": null,
   "id": "e92ba12e",
   "metadata": {},
   "outputs": [],
   "source": [
    "df['Runs Scored till that over'] = df['Runs Scored till that over'].str.strip()\n",
    "df['Runs Scored till that over'] = df['Runs Scored till that over'].str.split('(').str[0]\n",
    "df['Wickets Taken till that over'] = df['Runs Scored till that over'].str.split('/').str[1]\n",
    "df['Runs Scored till that over'] = df['Runs Scored till that over'].str.split('/').str[0]"
   ]
  },
  {
   "cell_type": "code",
   "execution_count": null,
   "id": "d6cb1261",
   "metadata": {},
   "outputs": [],
   "source": [
    "df['Total Wicket for Team 1'] = df['Total Score for Team 1'].str.split('/').str[1]\n",
    "df['Total Score for Team 1'] = df['Total Score for Team 1'].str.split('/').str[0]\n",
    "df['Total Wicket for Team 2'] = df['Total Score for Team 2'].str.split('/').str[1]\n",
    "df['Total Score for Team 2'] = df['Total Score for Team 2'].str.split('/').str[0]"
   ]
  },
  {
   "cell_type": "code",
   "execution_count": null,
   "id": "81caacb4",
   "metadata": {},
   "outputs": [],
   "source": [
    "df['Total Wicket for Team 1'] = df['Total Wicket for Team 1'].fillna(10)\n",
    "df['Total Wicket for Team 2'] = df['Total Wicket for Team 2'].fillna(10)"
   ]
  },
  {
   "cell_type": "code",
   "execution_count": null,
   "id": "f33d31e1",
   "metadata": {},
   "outputs": [],
   "source": [
    "df = df[['Year', 'Match Number', 'City', 'Date', \n",
    "       'Winner', 'Team 1', 'Team 2', 'Total Score for Team 1', 'Total Wicket for Team 1',\n",
    "       'Total Score for Team 2', 'Total Wicket for Team 2', 'Batting team',\n",
    "       'Bowling team', 'Over Number', 'Runs Scored in over',\n",
    "       'Runs Scored till that over','Wicket Taken in over', 'Wickets Taken till that over', \n",
    "        'Winning Details', 'Match Detail']]"
   ]
  },
  {
   "cell_type": "code",
   "execution_count": null,
   "id": "77a6b4a2",
   "metadata": {},
   "outputs": [],
   "source": [
    "df['Total Score for Team 1'] = df['Total Score for Team 1'].astype(int)\n",
    "df['Total Score for Team 2'] = df['Total Score for Team 2'].astype(int)\n",
    "df['Total Wicket for Team 1'] = df['Total Wicket for Team 1'].astype(int)\n",
    "df['Total Wicket for Team 2'] = df['Total Wicket for Team 2'].astype(int)\n",
    "df['Runs Scored in over'] = df['Runs Scored in over'].astype(int)\n",
    "df['Runs Scored till that over'] = df['Runs Scored till that over'].astype(int)\n",
    "df['Wicket Taken in over'] = df['Wicket Taken in over'].astype(int)\n",
    "df['Wickets Taken till that over'] = df['Wickets Taken till that over'].astype(int)\n",
    "df['Over Number'] = df['Over Number'].astype(int)\n",
    "df['Year'] = df['Year'].astype(int)"
   ]
  },
  {
   "cell_type": "code",
   "execution_count": null,
   "id": "d0424e88",
   "metadata": {},
   "outputs": [],
   "source": [
    "df.info()"
   ]
  },
  {
   "cell_type": "code",
   "execution_count": null,
   "id": "19f270e5",
   "metadata": {},
   "outputs": [],
   "source": [
    "df.head()"
   ]
  },
  {
   "cell_type": "code",
   "execution_count": null,
   "id": "239bd386",
   "metadata": {},
   "outputs": [],
   "source": [
    "df.to_csv(\"IPL_score.csv\", index = False)"
   ]
  }
 ],
 "metadata": {
  "kernelspec": {
   "display_name": "Python 3 (ipykernel)",
   "language": "python",
   "name": "python3"
  },
  "language_info": {
   "codemirror_mode": {
    "name": "ipython",
    "version": 3
   },
   "file_extension": ".py",
   "mimetype": "text/x-python",
   "name": "python",
   "nbconvert_exporter": "python",
   "pygments_lexer": "ipython3",
   "version": "3.11.4"
  }
 },
 "nbformat": 4,
 "nbformat_minor": 5
}
