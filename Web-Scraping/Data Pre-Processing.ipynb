{
 "cells": [
  {
   "cell_type": "code",
   "execution_count": 299,
   "id": "e87a08b5",
   "metadata": {},
   "outputs": [],
   "source": [
    "import os\n",
    "import pandas as pd"
   ]
  },
  {
   "cell_type": "code",
   "execution_count": 309,
   "id": "683198fb",
   "metadata": {},
   "outputs": [],
   "source": [
    "folder_path = '/Users/akshat/Documents/Thapar/Projects/Cricket Analysis/MAIN/Dataset'\n",
    "\n",
    "match_summary = pd.DataFrame()\n",
    "batting_summary = pd.DataFrame()\n",
    "bowling_summary = pd.DataFrame()\n",
    "\n",
    "for year_folder in os.listdir(folder_path):\n",
    "    year_folder_path = os.path.join(folder_path, year_folder)\n",
    "\n",
    "    if os.path.isdir(year_folder_path):\n",
    "        match = [file for file in os.listdir(year_folder_path) if file.startswith('df1')]\n",
    "        batting = [file for file in os.listdir(year_folder_path) if file.startswith('df2')]\n",
    "        bowling = [file for file in os.listdir(year_folder_path) if file.startswith('df3')]\n",
    "\n",
    "        for file in match:\n",
    "            file_path = os.path.join(year_folder_path, file)\n",
    "\n",
    "            df = pd.read_csv(file_path)\n",
    "            df['Year'] = int(year_folder)\n",
    "\n",
    "            match_summary = pd.concat((match_summary, df), ignore_index=True)\n",
    "            \n",
    "        for file in batting:\n",
    "            file_path = os.path.join(year_folder_path, file)\n",
    "\n",
    "            df = pd.read_csv(file_path)\n",
    "            df['Year'] = int(year_folder)\n",
    "\n",
    "            batting_summary = pd.concat((batting_summary, df), ignore_index=True)\n",
    "            \n",
    "        for file in bowling:\n",
    "            file_path = os.path.join(year_folder_path, file)\n",
    "\n",
    "            df = pd.read_csv(file_path)\n",
    "            df['Year'] = int(year_folder)\n",
    "\n",
    "            bowling_summary = pd.concat((bowling_summary, df), ignore_index=True)\n",
    "\n",
    "match_summary = match_summary.iloc[:, 1:]\n",
    "match_summary = match_summary[['Year'] + [col for col in match_summary.columns if col != 'Year']]\n",
    "match_summary = match_summary.reset_index(drop=True)\n",
    "\n",
    "batting_summary = batting_summary.iloc[:, 1:]\n",
    "batting_summary = batting_summary[['Year'] + [col for col in batting_summary.columns if col != 'Year']]\n",
    "batting_summary = batting_summary.reset_index(drop=True)\n",
    "\n",
    "bowling_summary = bowling_summary.iloc[:, 1:]\n",
    "bowling_summary = bowling_summary[['Year'] + [col for col in bowling_summary.columns if col != 'Year']]\n",
    "bowling_summary = bowling_summary.reset_index(drop=True)"
   ]
  },
  {
   "cell_type": "code",
   "execution_count": 310,
   "id": "65b29c38",
   "metadata": {},
   "outputs": [],
   "source": [
    "match_summary = match_summary.dropna(subset=['Winners'])\n",
    "match_summary['Date'] = match_summary['Date'].fillna(method='ffill')\n",
    "match_summary.reset_index(drop=True, inplace=True)\n",
    "\n",
    "match_summary['Winner'] = match_summary['Winners'].str.split('won').str[0]"
   ]
  },
  {
   "cell_type": "code",
   "execution_count": 311,
   "id": "ea9343fc",
   "metadata": {},
   "outputs": [],
   "source": [
    "batting_summary['Date'] = batting_summary['Date'].str.strip().str.rstrip(',')\n",
    "batting_summary['Stadium'] = batting_summary['Stadium'].str.strip().str.rstrip(',')\n",
    "\n",
    "bowling_summary['Date'] = bowling_summary['Date'].str.strip().str.rstrip(',')\n",
    "bowling_summary['Stadium'] = bowling_summary['Stadium'].str.strip().str.rstrip(',')"
   ]
  },
  {
   "cell_type": "code",
   "execution_count": 312,
   "id": "bb9413b9",
   "metadata": {},
   "outputs": [],
   "source": [
    "batting_summary['Date'] = batting_summary['Date'].astype(str) + str(' ') + batting_summary['Year'].astype(str)\n",
    "batting_summary['Date'] = pd.to_datetime(batting_summary['Date'], format='%b %d %Y')\n",
    "\n",
    "bowling_summary['Date'] = bowling_summary['Date'].astype(str) + str(' ') + bowling_summary['Year'].astype(str)\n",
    "bowling_summary['Date'] = pd.to_datetime(bowling_summary['Date'], format='%b %d %Y')\n",
    "\n",
    "match_summary['Date'] = match_summary['Date'].str.split(',').str[0]\n",
    "match_summary['Date'] = match_summary['Date'].astype(str) + str(' ') + match_summary['Year'].astype(str)\n",
    "match_summary['Date'] = pd.to_datetime(match_summary['Date'], format='%b %d %Y')"
   ]
  },
  {
   "cell_type": "code",
   "execution_count": 313,
   "id": "78c7b856",
   "metadata": {},
   "outputs": [],
   "source": [
    "batting_summary['Match Details'] = batting_summary['Match Details'].str.replace(\"- Live Cricket Score, Commentary\",\"\").str.strip()\n",
    "batting_summary[['Team 1', 'Team 2']] =batting_summary['Match Details'].str.split(',').str[0].str.split(' vs ', expand=True)\n",
    "\n",
    "bowling_summary['Match Details'] = bowling_summary['Match Details'].str.replace(\"- Live Cricket Score, Commentary\",\"\").str.strip()\n",
    "bowling_summary[['Team 1', 'Team 2']] =bowling_summary['Match Details'].str.split(',').str[0].str.split(' vs ', expand=True)\n",
    "\n",
    "match_summary[['Team 1', 'Team 2']] =match_summary['Teams'].str.split(',').str[0].str.split(' vs ', expand=True)"
   ]
  },
  {
   "cell_type": "code",
   "execution_count": 314,
   "id": "066715dc",
   "metadata": {
    "scrolled": true
   },
   "outputs": [],
   "source": [
    "batting_summary = batting_summary[['Year', 'Date', 'Time', 'Stadium', 'City', 'Match Details', 'Team 1', 'Team 2', 'Team Playing', 'Total Runs', 'Total Wickets', 'Batsman Names', 'Out/Not Out', 'Balls Played', 'Runs Scored', 'Fours', 'Sixes', 'Strike Rate']]\n",
    "batting_summary = batting_summary.rename(columns = {'Team Playing' : 'Team Batting', 'Year' : 'IPL Edition'})\n",
    "\n",
    "bowling_summary = bowling_summary[['Year', 'Date', 'Time', 'Stadium', 'City', 'Match Details', 'Team 1', 'Team 2', 'Team Bowling', 'Total Runs Conceeded', 'Total Wickets Taken', 'Bowler Name', 'Overs', 'Maidens', 'Runs', 'Wickets', 'No Balls', 'Wides', 'Economies']]\n",
    "bowling_summary = bowling_summary.rename(columns = {'Year' : 'IPL Edition'})\n",
    "\n",
    "match_summary = match_summary[['Year', 'Date', 'Time', 'Teams','Team 1', 'Team 2','Winner', 'Winners']]\n",
    "match_summary = match_summary.rename(columns = {'Teams' : 'Match Details', 'Year' : 'IPL Edition', 'Winners': 'Winning Details'} )"
   ]
  },
  {
   "cell_type": "code",
   "execution_count": 315,
   "id": "aa868bd2",
   "metadata": {},
   "outputs": [],
   "source": [
    "match_summary = match_summary.sort_values(by=['IPL Edition', 'Date'], ascending=[False, True])\n",
    "batting_summary = batting_summary.sort_values(by=['IPL Edition', 'Date'], ascending=[False, True])\n",
    "bowling_summary = bowling_summary.sort_values(by=['IPL Edition', 'Date'], ascending=[False, True])"
   ]
  },
  {
   "cell_type": "code",
   "execution_count": 316,
   "id": "0bb95ae7",
   "metadata": {},
   "outputs": [],
   "source": [
    "output_folder_path = '/Users/akshat/Documents/Thapar/Projects/Cricket Analysis/MAIN/Dataset'\n",
    "match_summary.to_csv(os.path.join(output_folder_path, 'match_summary.csv'), index=False)\n",
    "batting_summary.to_csv(os.path.join(output_folder_path, 'batting_summary.csv'), index=False)\n",
    "bowling_summary.to_csv(os.path.join(output_folder_path, 'bowling_summary.csv'), index=False)"
   ]
  },
  {
   "cell_type": "code",
   "execution_count": null,
   "id": "8d5be8d6",
   "metadata": {},
   "outputs": [],
   "source": []
  },
  {
   "cell_type": "code",
   "execution_count": null,
   "id": "e5b8c2ff",
   "metadata": {},
   "outputs": [],
   "source": []
  },
  {
   "cell_type": "code",
   "execution_count": null,
   "id": "25be0043",
   "metadata": {},
   "outputs": [],
   "source": []
  },
  {
   "cell_type": "code",
   "execution_count": 317,
   "id": "12cc5ddf",
   "metadata": {},
   "outputs": [],
   "source": [
    "import os\n",
    "\n",
    "folder_path = '/Users/akshat/Documents/Thapar/Projects/Cricket Analysis/MAIN/Dataset'\n",
    "\n",
    "for year_folder in os.listdir(folder_path):\n",
    "    year_folder_path = os.path.join(folder_path, year_folder)\n",
    "\n",
    "    if os.path.isdir(year_folder_path):\n",
    "        for file in os.listdir(year_folder_path):\n",
    "            if(file.startswith('df1')):\n",
    "                old_path = os.path.join(year_folder_path, file)\n",
    "                year = file.split('_')[1].split('.')[0]\n",
    "                df = pd.read_csv(old_path)\n",
    "                df = df.drop('Links', axis = 1)\n",
    "                df.to_csv(os.path.join(year_folder_path, f\"df1_{year}.csv\"), index = False)\n",
    "                year = file.split('_')[1].split('.')[0]\n",
    "                new_name = f\"match_summary_{year}.csv\"\n",
    "                new_path = os.path.join(year_folder_path, new_name)\n",
    "                os.rename(old_path, new_path)\n",
    "                \n",
    "            if(file.startswith('df2')):\n",
    "                old_path = os.path.join(year_folder_path, file)\n",
    "                year = file.split('_')[1].split('.')[0]\n",
    "                new_name = f\"batting_summary_{year}.csv\"\n",
    "                new_path = os.path.join(year_folder_path, new_name)\n",
    "                os.rename(old_path, new_path)\n",
    "                \n",
    "            if(file.startswith('df3')):\n",
    "                old_path = os.path.join(year_folder_path, file)\n",
    "                year = file.split('_')[1].split('.')[0]\n",
    "                new_name = f\"bowling_summary_{year}.csv\"\n",
    "                new_path = os.path.join(year_folder_path, new_name)\n",
    "                os.rename(old_path, new_path)\n",
    "                "
   ]
  },
  {
   "cell_type": "code",
   "execution_count": null,
   "id": "3035a017",
   "metadata": {},
   "outputs": [],
   "source": []
  }
 ],
 "metadata": {
  "kernelspec": {
   "display_name": "Python 3 (ipykernel)",
   "language": "python",
   "name": "python3"
  },
  "language_info": {
   "codemirror_mode": {
    "name": "ipython",
    "version": 3
   },
   "file_extension": ".py",
   "mimetype": "text/x-python",
   "name": "python",
   "nbconvert_exporter": "python",
   "pygments_lexer": "ipython3",
   "version": "3.11.4"
  }
 },
 "nbformat": 4,
 "nbformat_minor": 5
}
